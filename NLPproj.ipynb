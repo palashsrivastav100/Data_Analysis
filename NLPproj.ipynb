{
 "cells": [
  {
   "cell_type": "code",
   "execution_count": 1,
   "id": "9f56b8f7",
   "metadata": {},
   "outputs": [
    {
     "name": "stdout",
     "output_type": "stream",
     "text": [
      "WARNING:tensorflow:From C:\\Users\\palash\\anaconda3\\lib\\site-packages\\keras\\src\\losses.py:2976: The name tf.losses.sparse_softmax_cross_entropy is deprecated. Please use tf.compat.v1.losses.sparse_softmax_cross_entropy instead.\n",
      "\n"
     ]
    }
   ],
   "source": [
    "import numpy as np\n",
    "import pandas as pd\n",
    "import matplotlib.pyplot as plt\n",
    "import seaborn as sns\n",
    "import tensorflow as tf\n",
    "\n",
    "import gensim"
   ]
  },
  {
   "cell_type": "code",
   "execution_count": 2,
   "id": "a7ac345d",
   "metadata": {},
   "outputs": [
    {
     "data": {
      "text/html": [
       "<div>\n",
       "<style scoped>\n",
       "    .dataframe tbody tr th:only-of-type {\n",
       "        vertical-align: middle;\n",
       "    }\n",
       "\n",
       "    .dataframe tbody tr th {\n",
       "        vertical-align: top;\n",
       "    }\n",
       "\n",
       "    .dataframe thead th {\n",
       "        text-align: right;\n",
       "    }\n",
       "</style>\n",
       "<table border=\"1\" class=\"dataframe\">\n",
       "  <thead>\n",
       "    <tr style=\"text-align: right;\">\n",
       "      <th></th>\n",
       "      <th>final_text</th>\n",
       "      <th>sentiment</th>\n",
       "    </tr>\n",
       "  </thead>\n",
       "  <tbody>\n",
       "    <tr>\n",
       "      <th>0</th>\n",
       "      <td>shibunice service fast easy everything also fo...</td>\n",
       "      <td>0</td>\n",
       "    </tr>\n",
       "    <tr>\n",
       "      <th>1</th>\n",
       "      <td>excellent service amar singh next time expect ...</td>\n",
       "      <td>0</td>\n",
       "    </tr>\n",
       "    <tr>\n",
       "      <th>2</th>\n",
       "      <td>excellent excellenti first time kebab curry re...</td>\n",
       "      <td>0</td>\n",
       "    </tr>\n",
       "    <tr>\n",
       "      <th>3</th>\n",
       "      <td>according ambiance wanna give star restaurant ...</td>\n",
       "      <td>0</td>\n",
       "    </tr>\n",
       "    <tr>\n",
       "      <th>4</th>\n",
       "      <td>amazing place even better food geetika great h...</td>\n",
       "      <td>0</td>\n",
       "    </tr>\n",
       "  </tbody>\n",
       "</table>\n",
       "</div>"
      ],
      "text/plain": [
       "                                          final_text  sentiment\n",
       "0  shibunice service fast easy everything also fo...          0\n",
       "1  excellent service amar singh next time expect ...          0\n",
       "2  excellent excellenti first time kebab curry re...          0\n",
       "3  according ambiance wanna give star restaurant ...          0\n",
       "4  amazing place even better food geetika great h...          0"
      ]
     },
     "execution_count": 2,
     "metadata": {},
     "output_type": "execute_result"
    }
   ],
   "source": [
    "df = pd.read_csv(r\"C:\\Users\\palash\\Downloads\\food_review_cleaned.csv\")\n",
    "df.head()"
   ]
  },
  {
   "cell_type": "code",
   "execution_count": 65,
   "id": "2abbe372",
   "metadata": {},
   "outputs": [
    {
     "name": "stdout",
     "output_type": "stream",
     "text": [
      "X_train: (7018,)\n",
      "X_valid: (2340,)\n",
      "y_train: (7018,)\n",
      "y_valid: (2340,)\n"
     ]
    }
   ],
   "source": [
    "from sklearn.model_selection import train_test_split\n",
    "\n",
    "# Use train_test_split to split training data into training and validation sets\n",
    "X_train, X_valid, y_train, y_valid = train_test_split(df[\"final_text\"],\n",
    "                                                      df[\"sentiment\"]  ,\n",
    "                                                      stratify = df[\"sentiment\"],\n",
    "                                                      test_size=0.25,\n",
    "                                                      random_state=42)\n",
    "print(f\"X_train: {X_train.shape}\")\n",
    "print(f\"X_valid: {X_valid.shape}\")\n",
    "print(f\"y_train: {y_train.shape}\")\n",
    "print(f\"y_valid: {y_valid.shape}\")"
   ]
  },
  {
   "cell_type": "code",
   "execution_count": 66,
   "id": "6764b593",
   "metadata": {},
   "outputs": [
    {
     "data": {
      "text/plain": [
       "10726"
      ]
     },
     "execution_count": 66,
     "metadata": {},
     "output_type": "execute_result"
    }
   ],
   "source": [
    "unique_words = []\n",
    "for review in X_train:\n",
    "    unique_words.extend(review.split())\n",
    "\n",
    "len(set(unique_words))"
   ]
  },
  {
   "cell_type": "code",
   "execution_count": null,
   "id": "78890e55",
   "metadata": {},
   "outputs": [],
   "source": []
  },
  {
   "cell_type": "code",
   "execution_count": 8,
   "id": "e4ecdb31",
   "metadata": {},
   "outputs": [
    {
     "data": {
      "text/plain": [
       "['definitely', 'enjoable', 'place', 'jaipur', 'good']"
      ]
     },
     "execution_count": 8,
     "metadata": {},
     "output_type": "execute_result"
    }
   ],
   "source": [
    "unique_words[:5]"
   ]
  },
  {
   "cell_type": "code",
   "execution_count": 67,
   "id": "5ca015b8",
   "metadata": {},
   "outputs": [
    {
     "data": {
      "text/plain": [
       "count    7018.000000\n",
       "mean       16.254773\n",
       "std        13.961594\n",
       "min         1.000000\n",
       "25%         6.000000\n",
       "50%        13.000000\n",
       "75%        20.000000\n",
       "max        81.000000\n",
       "dtype: float64"
      ]
     },
     "execution_count": 67,
     "metadata": {},
     "output_type": "execute_result"
    }
   ],
   "source": [
    "len_review=[]\n",
    "for review in X_train:\n",
    "    len_review.append(len(review.split()))\n",
    "len_series = pd.Series(data= len_review)\n",
    "len_series.describe()"
   ]
  },
  {
   "cell_type": "code",
   "execution_count": 16,
   "id": "973de8a6",
   "metadata": {},
   "outputs": [
    {
     "data": {
      "image/png": "[encoded data removed]",
      "text/plain": [
       "<Figure size 640x480 with 1 Axes>"
      ]
     },
     "metadata": {},
     "output_type": "display_data"
    }
   ],
   "source": [
    "sns.kdeplot(len_series)\n",
    "plt.axvline(len_series.mean(), color = \"red\",\n",
    "            label = f\"mean: {round(len_series.mean(),2)}\")\n",
    "plt.axvline(len_series.median(), color = \"green\",\n",
    "            label = f\"median: {round(len_series.median(),2)}\")\n",
    "plt.axvline(len_series.mode()[0], color = \"orange\",\n",
    "            label = f\"mode: {round(len_series.mode()[0],2)}\")\n",
    "plt.legend()\n",
    "plt.show()"
   ]
  },
  {
   "cell_type": "code",
   "execution_count": 15,
   "id": "2e313994",
   "metadata": {},
   "outputs": [
    {
     "data": {
      "text/plain": [
       "10726"
      ]
     },
     "execution_count": 15,
     "metadata": {},
     "output_type": "execute_result"
    }
   ],
   "source": [
    "# Number of unique words in X_train\n",
    "vocab = []\n",
    "for review in X_train:\n",
    "  vocab.extend(review.split())\n",
    "len(set(vocab))"
   ]
  },
  {
   "cell_type": "code",
   "execution_count": 16,
   "id": "a5e60fc5",
   "metadata": {},
   "outputs": [
    {
     "data": {
      "text/plain": [
       "['definitely',\n",
       " 'enjoable',\n",
       " 'place',\n",
       " 'jaipur',\n",
       " 'good',\n",
       " 'food',\n",
       " 'good',\n",
       " 'service',\n",
       " 'food',\n",
       " 'really',\n",
       " 'nice',\n",
       " 'cocktail',\n",
       " 'crazy',\n",
       " 'af',\n",
       " 'come',\n",
       " 'place',\n",
       " 'day',\n",
       " 'love',\n",
       " 'food',\n",
       " 'excellent',\n",
       " 'service',\n",
       " 'excellent',\n",
       " 'foodthe',\n",
       " 'oder',\n",
       " 'chiken',\n",
       " 'birayani',\n",
       " 'paneer',\n",
       " 'tikka',\n",
       " 'masala',\n",
       " 'naan',\n",
       " 'roti',\n",
       " 'thank',\n",
       " 'kcco',\n",
       " 'nice',\n",
       " 'staff',\n",
       " 'great',\n",
       " 'food',\n",
       " 'cute',\n",
       " 'cosy',\n",
       " 'ambience',\n",
       " 'lot',\n",
       " 'experimental',\n",
       " 'option',\n",
       " 'amazing',\n",
       " 'taste',\n",
       " 'falafel',\n",
       " 'salad',\n",
       " 'pizza',\n",
       " 'awesome',\n",
       " 'place',\n",
       " 'amazing',\n",
       " 'wonderful',\n",
       " 'food',\n",
       " 'awesome',\n",
       " 'atmosphere',\n",
       " 'view',\n",
       " 'breath',\n",
       " 'taking',\n",
       " 'veg',\n",
       " 'maggi',\n",
       " 'one',\n",
       " 'good',\n",
       " 'thing',\n",
       " 'go',\n",
       " 'amazing',\n",
       " 'view',\n",
       " 'best',\n",
       " 'place',\n",
       " 'visit',\n",
       " 'awesome',\n",
       " 'placei',\n",
       " 'ordered',\n",
       " 'gatta',\n",
       " 'masala',\n",
       " 'paneer',\n",
       " 'delicious',\n",
       " 'taking',\n",
       " 'also',\n",
       " 'helpful',\n",
       " 'good',\n",
       " 'photo',\n",
       " 'preparation',\n",
       " 'diff',\n",
       " 'order',\n",
       " 'excessive',\n",
       " 'salt',\n",
       " 'partially',\n",
       " 'cooked',\n",
       " 'bhoot',\n",
       " 'ghatiya',\n",
       " 'packing',\n",
       " 'hai',\n",
       " 'paisa',\n",
       " 'bhoot',\n",
       " 'jyada',\n",
       " 'amazing',\n",
       " 'experience',\n",
       " 'shivu',\n",
       " 'served',\n",
       " 'u',\n",
       " 'everything',\n",
       " 'polite',\n",
       " 'one',\n",
       " 'hell',\n",
       " 'dish',\n",
       " 'ambience',\n",
       " 'good',\n",
       " 'food',\n",
       " 'spicy',\n",
       " 'tasty',\n",
       " 'packing',\n",
       " 'leak',\n",
       " 'ordered',\n",
       " 'dish',\n",
       " 'executive',\n",
       " 'vegetarian',\n",
       " 'dimsums',\n",
       " 'asparagus',\n",
       " 'tempora',\n",
       " 'sushi',\n",
       " 'bestseller',\n",
       " 'luckily',\n",
       " 'clicked',\n",
       " 'photo',\n",
       " 'dimsums',\n",
       " 'eating',\n",
       " 'eaten',\n",
       " 'found',\n",
       " 'dead',\n",
       " 'cockroach',\n",
       " 'rim',\n",
       " 'dimsum',\n",
       " 'waiter',\n",
       " 'although',\n",
       " 'seem',\n",
       " 'realise',\n",
       " 'mistake',\n",
       " 'offered',\n",
       " 'u',\n",
       " 'another',\n",
       " 'dish',\n",
       " 'replacement',\n",
       " 'complementary',\n",
       " 'dessert',\n",
       " 'carelessness',\n",
       " 'could',\n",
       " 'lead',\n",
       " 'critical',\n",
       " 'health',\n",
       " 'issue',\n",
       " 'diner',\n",
       " 'attached',\n",
       " 'picture',\n",
       " 'reference',\n",
       " 'kindly',\n",
       " 'check',\n",
       " 'food',\n",
       " 'eating',\n",
       " 'ghee',\n",
       " 'nahi',\n",
       " 'daala',\n",
       " 'haddi',\n",
       " 'di',\n",
       " 'hai',\n",
       " 'pc',\n",
       " 'nahi',\n",
       " 'haibasi',\n",
       " 'ki',\n",
       " 'smell',\n",
       " 'aa',\n",
       " 'rahi',\n",
       " 'hsi',\n",
       " 'great',\n",
       " 'ambience',\n",
       " 'nice',\n",
       " 'foodeverything',\n",
       " 'superbeverything',\n",
       " 'top',\n",
       " 'bottomstart',\n",
       " 'service',\n",
       " 'endnice',\n",
       " 'place',\n",
       " 'hangout',\n",
       " 'family',\n",
       " 'friend',\n",
       " 'food',\n",
       " 'naan',\n",
       " 'pizza',\n",
       " 'katori',\n",
       " 'chaat',\n",
       " 'time',\n",
       " 'hitambience',\n",
       " 'drink',\n",
       " 'againjaipur',\n",
       " 'adda',\n",
       " 'name',\n",
       " 'suggests',\n",
       " 'adda',\n",
       " 'jaipurites',\n",
       " 'one',\n",
       " 'enjoy',\n",
       " 'fullest',\n",
       " 'no',\n",
       " 'competition',\n",
       " 'mean',\n",
       " 'many',\n",
       " 'club',\n",
       " 'lounge',\n",
       " 'energy',\n",
       " 'vibe',\n",
       " 'get',\n",
       " 'searching',\n",
       " 'place',\n",
       " 'enjoy',\n",
       " 'saturday',\n",
       " 'night',\n",
       " 'dont',\n",
       " 'think',\n",
       " 'go',\n",
       " 'many',\n",
       " 'friend',\n",
       " 'family',\n",
       " 'peer',\n",
       " 'none',\n",
       " 'disappointed',\n",
       " 'courtesy',\n",
       " 'manager',\n",
       " 'team',\n",
       " 'polite',\n",
       " 'humble',\n",
       " 'love',\n",
       " 'serve',\n",
       " 'people',\n",
       " 'heart',\n",
       " 'reason',\n",
       " 'visit',\n",
       " 'want',\n",
       " 'party',\n",
       " 'celebrated',\n",
       " 'birthday',\n",
       " 'worst',\n",
       " 'place',\n",
       " 'thing',\n",
       " 'good',\n",
       " 'place',\n",
       " 'staff',\n",
       " 'service',\n",
       " 'food',\n",
       " 'quality',\n",
       " 'ambiance',\n",
       " 'place',\n",
       " 'rated',\n",
       " 'paneer',\n",
       " 'tasted',\n",
       " 'stale',\n",
       " 'delicious',\n",
       " 'food',\n",
       " 'good',\n",
       " 'service',\n",
       " 'surly',\n",
       " 'go',\n",
       " 'food',\n",
       " 'craving',\n",
       " 'loved',\n",
       " 'everything',\n",
       " 'perfect',\n",
       " 'place',\n",
       " 'quick',\n",
       " 'meal',\n",
       " 'good',\n",
       " 'food',\n",
       " 'great',\n",
       " 'vibe',\n",
       " 'prashant',\n",
       " 'waited',\n",
       " 'table',\n",
       " 'helpful',\n",
       " 'spent',\n",
       " 'lot',\n",
       " 'time',\n",
       " 'selecting',\n",
       " 'cake',\n",
       " 'special',\n",
       " 'occasion',\n",
       " 'delivered',\n",
       " 'different',\n",
       " 'cake',\n",
       " 'ordered',\n",
       " 'didnt',\n",
       " 'come',\n",
       " 'specially',\n",
       " 'taste',\n",
       " 'cake',\n",
       " 'pathetic',\n",
       " 'chinni',\n",
       " 'ke',\n",
       " 'rate',\n",
       " 'inhi',\n",
       " 'logo',\n",
       " 'ke',\n",
       " 'wajah',\n",
       " 'se',\n",
       " 'jayda',\n",
       " 'huee',\n",
       " 'hai',\n",
       " 'food',\n",
       " 'great',\n",
       " 'chicken',\n",
       " 'supremely',\n",
       " 'delicious',\n",
       " 'absolute',\n",
       " 'place',\n",
       " 'hangout',\n",
       " 'friend',\n",
       " 'taste',\n",
       " 'doesnt',\n",
       " 'justify',\n",
       " 'price',\n",
       " 'okay',\n",
       " 'become',\n",
       " 'one',\n",
       " 'favourite',\n",
       " 'place',\n",
       " 'visit',\n",
       " 'jaipur',\n",
       " 'not',\n",
       " 'food',\n",
       " 'not',\n",
       " 'speciality',\n",
       " 'padao',\n",
       " 'location',\n",
       " 'view',\n",
       " 'provides',\n",
       " 'guess',\n",
       " 'im',\n",
       " 'not',\n",
       " 'going',\n",
       " 'turn',\n",
       " 'towards',\n",
       " 'nahargarh',\n",
       " 'amber',\n",
       " 'ill',\n",
       " 'run',\n",
       " 'straight',\n",
       " 'padao',\n",
       " 'restaurant',\n",
       " 'sit',\n",
       " 'like',\n",
       " 'hour',\n",
       " 'enjoying',\n",
       " 'scenic',\n",
       " 'beauty',\n",
       " 'special',\n",
       " 'service',\n",
       " 'santosh',\n",
       " 'ji',\n",
       " 'feeling',\n",
       " 'like',\n",
       " 'top',\n",
       " 'world',\n",
       " 'best',\n",
       " 'time',\n",
       " 'would',\n",
       " 'monsoon',\n",
       " 'drizzling',\n",
       " 'little',\n",
       " 'amazing',\n",
       " 'chai',\n",
       " 'pakode',\n",
       " 'hand',\n",
       " 'oh',\n",
       " 'good',\n",
       " 'life',\n",
       " 'thing',\n",
       " 'thatd',\n",
       " 'come',\n",
       " 'mind',\n",
       " 'weve',\n",
       " 'one',\n",
       " 'experience',\n",
       " 'good',\n",
       " 'food',\n",
       " 'great',\n",
       " 'location',\n",
       " 'located',\n",
       " 'make',\n",
       " 'easily',\n",
       " 'accessible',\n",
       " 'people',\n",
       " 'area',\n",
       " 'visit',\n",
       " 'north',\n",
       " 'indian',\n",
       " 'food',\n",
       " 'starter',\n",
       " 'tasty',\n",
       " 'no',\n",
       " 'particular',\n",
       " 'fault',\n",
       " 'flavourful',\n",
       " 'pls',\n",
       " 'proper',\n",
       " 'management',\n",
       " 'new',\n",
       " 'year',\n",
       " 'eve',\n",
       " 'people',\n",
       " 'entered',\n",
       " 'capacity',\n",
       " 'no',\n",
       " 'food',\n",
       " 'waiting',\n",
       " 'two',\n",
       " 'hour',\n",
       " 'well',\n",
       " 'served',\n",
       " 'anshul',\n",
       " 'verma',\n",
       " 'food',\n",
       " 'awesome',\n",
       " 'service',\n",
       " 'present',\n",
       " 'fabulous',\n",
       " 'like',\n",
       " 'way',\n",
       " 'served',\n",
       " 'good',\n",
       " 'sense',\n",
       " 'serving',\n",
       " 'thankyou',\n",
       " 'sandeep',\n",
       " 'amazing',\n",
       " 'service',\n",
       " 'food',\n",
       " 'no',\n",
       " 'doubt',\n",
       " 'tasty',\n",
       " 'experience',\n",
       " 'kcco',\n",
       " 'wtp',\n",
       " 'recommended',\n",
       " 'must',\n",
       " 'visit',\n",
       " 'place',\n",
       " 'wtp',\n",
       " 'foodcourt',\n",
       " 'payment',\n",
       " 'made',\n",
       " 'liquor',\n",
       " 'not',\n",
       " 'applicable',\n",
       " 'zomato',\n",
       " 'pro',\n",
       " 'service',\n",
       " 'delayambient',\n",
       " 'sound',\n",
       " 'speaker',\n",
       " 'qualityloudness',\n",
       " 'not',\n",
       " 'bearable',\n",
       " 'also',\n",
       " 'not',\n",
       " 'clear',\n",
       " 'price',\n",
       " 'much',\n",
       " 'excellent',\n",
       " 'food',\n",
       " 'handi',\n",
       " 'chicken',\n",
       " 'jeera',\n",
       " 'rice',\n",
       " 'matka',\n",
       " 'chiken',\n",
       " 'really',\n",
       " 'tasty',\n",
       " 'food',\n",
       " 'excellent',\n",
       " 'service',\n",
       " 'shibu',\n",
       " 'ok',\n",
       " 'nice',\n",
       " 'good',\n",
       " 'palette',\n",
       " 'amazing',\n",
       " 'staff',\n",
       " 'food',\n",
       " 'good',\n",
       " 'staff',\n",
       " 'service',\n",
       " 'mr',\n",
       " 'shivu',\n",
       " 'best',\n",
       " 'humble',\n",
       " 'kind',\n",
       " 'serving',\n",
       " 'also',\n",
       " 'best',\n",
       " 'come',\n",
       " 'soon',\n",
       " 'excellent',\n",
       " 'food',\n",
       " 'shishi',\n",
       " 'paneer',\n",
       " 'lababder',\n",
       " 'excellent',\n",
       " 'sar',\n",
       " 'ice',\n",
       " 'mr',\n",
       " 'nirmal',\n",
       " 'thanks',\n",
       " 'nirmal',\n",
       " 'thanks',\n",
       " 'mccoy',\n",
       " 'food',\n",
       " 'good',\n",
       " 'nice',\n",
       " 'experience',\n",
       " 'good',\n",
       " 'series',\n",
       " 'hemraj',\n",
       " 'visited',\n",
       " 'place',\n",
       " 'day',\n",
       " 'backi',\n",
       " 'loved',\n",
       " 'ambiemce',\n",
       " 'looking',\n",
       " 'good',\n",
       " 'rooftop',\n",
       " 'place',\n",
       " 'u',\n",
       " 'must',\n",
       " 'visit',\n",
       " 'one',\n",
       " 'great',\n",
       " 'place',\n",
       " 'njoy',\n",
       " 'quality',\n",
       " 'time',\n",
       " 'loved',\n",
       " 'one',\n",
       " 'tried',\n",
       " 'kitkat',\n",
       " 'shake',\n",
       " 'paneer',\n",
       " 'tikka',\n",
       " 'chur',\n",
       " 'naan',\n",
       " 'service',\n",
       " 'good',\n",
       " 'staff',\n",
       " 'polite',\n",
       " 'food',\n",
       " 'taste',\n",
       " 'amazing',\n",
       " 'specially',\n",
       " 'chicken',\n",
       " 'biryani',\n",
       " 'nice',\n",
       " 'buffet',\n",
       " 'spread',\n",
       " 'elegantly',\n",
       " 'done',\n",
       " 'dessert',\n",
       " 'one',\n",
       " 'finest',\n",
       " 'coffee',\n",
       " 'shop',\n",
       " 'jaipur',\n",
       " 'minus',\n",
       " 'point',\n",
       " 'amazing',\n",
       " 'guy',\n",
       " 'trained',\n",
       " 'well',\n",
       " 'handle',\n",
       " 'guestsi',\n",
       " 'would',\n",
       " 'like',\n",
       " 'give',\n",
       " 'service',\n",
       " 'food',\n",
       " 'quantity',\n",
       " 'le',\n",
       " 'compared',\n",
       " 'full',\n",
       " 'plate',\n",
       " 'delicious',\n",
       " 'food',\n",
       " 'great',\n",
       " 'ambience',\n",
       " 'super',\n",
       " 'helping',\n",
       " 'friendly',\n",
       " 'staff',\n",
       " 'absolutely',\n",
       " 'perfect',\n",
       " 'place',\n",
       " 'family',\n",
       " 'outinggathering',\n",
       " 'went',\n",
       " 'celebrate',\n",
       " 'sister',\n",
       " 'birthday',\n",
       " 'enjoyed',\n",
       " 'fullest',\n",
       " 'must',\n",
       " 'try',\n",
       " 'dahi',\n",
       " 'kabeabs',\n",
       " 'super',\n",
       " 'awesome',\n",
       " 'poor',\n",
       " 'service',\n",
       " 'must',\n",
       " 'say',\n",
       " 'not',\n",
       " 'food',\n",
       " 'not',\n",
       " 'good',\n",
       " 'strangely',\n",
       " 'handled',\n",
       " 'attendant',\n",
       " 'table',\n",
       " 'cleaned',\n",
       " 'asking',\n",
       " 'time',\n",
       " 'water',\n",
       " 'served',\n",
       " 'order',\n",
       " 'came',\n",
       " 'couldnt',\n",
       " 'place',\n",
       " 'order',\n",
       " 'min',\n",
       " 'waiting',\n",
       " 'around',\n",
       " 'handful',\n",
       " 'customer',\n",
       " 'food',\n",
       " 'not',\n",
       " 'going',\n",
       " 'talk',\n",
       " 'sabji',\n",
       " 'good',\n",
       " 'item',\n",
       " 'bad',\n",
       " 'cold',\n",
       " 'pink',\n",
       " 'sauce',\n",
       " 'pasta',\n",
       " 'good',\n",
       " 'not',\n",
       " 'good',\n",
       " 'city',\n",
       " 'height',\n",
       " 'good',\n",
       " 'enough',\n",
       " 'taste',\n",
       " 'wierd',\n",
       " 'guess',\n",
       " 'not',\n",
       " 'freshly',\n",
       " 'made',\n",
       " 'one',\n",
       " 'best',\n",
       " 'experience',\n",
       " 'highly',\n",
       " 'recommended',\n",
       " 'great',\n",
       " 'service',\n",
       " 'trained',\n",
       " 'staff',\n",
       " 'ambience',\n",
       " 'good',\n",
       " 'dal',\n",
       " 'tooo',\n",
       " 'much',\n",
       " 'garlicky',\n",
       " 'extremely',\n",
       " 'garlic',\n",
       " 'oil',\n",
       " 'even',\n",
       " 'couldnt',\n",
       " 'eat',\n",
       " 'bati',\n",
       " 'also',\n",
       " 'heavy',\n",
       " 'fruit',\n",
       " 'custard',\n",
       " 'amazing',\n",
       " 'le',\n",
       " 'portion',\n",
       " 'gone',\n",
       " 'someone',\n",
       " 'recommendation',\n",
       " 'found',\n",
       " 'service',\n",
       " 'not',\n",
       " 'goodi',\n",
       " 'told',\n",
       " 'staff',\n",
       " 'many',\n",
       " 'time',\n",
       " 'serve',\n",
       " 'food',\n",
       " 'not',\n",
       " 'done',\n",
       " 'way',\n",
       " 'much',\n",
       " 'gravy',\n",
       " 'pasta',\n",
       " 'tasteless',\n",
       " 'pasta',\n",
       " 'really',\n",
       " 'enjoyed',\n",
       " 'food',\n",
       " 'drink',\n",
       " 'everything',\n",
       " 'point',\n",
       " 'aesthetic',\n",
       " 'service',\n",
       " 'well',\n",
       " 'curated',\n",
       " 'menu',\n",
       " 'taste',\n",
       " 'lived',\n",
       " 'expectation',\n",
       " 'visit',\n",
       " 'explore',\n",
       " 'ambience',\n",
       " 'food',\n",
       " 'variety',\n",
       " 'service',\n",
       " 'short',\n",
       " 'went',\n",
       " 'buffet',\n",
       " 'lunch',\n",
       " 'beautiful',\n",
       " 'slightly',\n",
       " 'disappointed',\n",
       " 'one',\n",
       " 'couple',\n",
       " 'food',\n",
       " 'better',\n",
       " 'okra',\n",
       " 'great',\n",
       " 'spread',\n",
       " 'salad',\n",
       " 'amazing',\n",
       " 'presentation',\n",
       " 'special',\n",
       " 'mention',\n",
       " 'salad',\n",
       " 'watermelon',\n",
       " 'chestnut',\n",
       " 'italian',\n",
       " 'dressing',\n",
       " 'soup',\n",
       " 'tomato',\n",
       " 'basil',\n",
       " 'perfect',\n",
       " 'golgappe',\n",
       " 'pudina',\n",
       " 'water',\n",
       " 'good',\n",
       " 'option',\n",
       " 'making',\n",
       " 'bhel',\n",
       " 'according',\n",
       " 'come',\n",
       " 'main',\n",
       " 'course',\n",
       " 'thin',\n",
       " 'crust',\n",
       " 'italian',\n",
       " 'pizza',\n",
       " 'baked',\n",
       " 'wood',\n",
       " 'fire',\n",
       " 'oven',\n",
       " 'perfect',\n",
       " 'pasta',\n",
       " 'ambiance',\n",
       " 'perfect',\n",
       " 'blend',\n",
       " 'sophistication',\n",
       " 'comfort',\n",
       " 'creating',\n",
       " 'delightful',\n",
       " 'atmosphere',\n",
       " 'relaxing',\n",
       " 'meal',\n",
       " 'attention',\n",
       " 'detail',\n",
       " 'decor',\n",
       " 'lighting',\n",
       " 'table',\n",
       " 'setting',\n",
       " 'truly',\n",
       " 'stood',\n",
       " 'presentation',\n",
       " 'food',\n",
       " 'amazing',\n",
       " 'food',\n",
       " 'decent',\n",
       " 'enuf',\n",
       " 'tend',\n",
       " 'love',\n",
       " 'food',\n",
       " 'even',\n",
       " 'presented',\n",
       " 'welland',\n",
       " 'variety',\n",
       " 'drink',\n",
       " 'staff',\n",
       " 'good',\n",
       " 'ambience',\n",
       " 'place',\n",
       " 'small',\n",
       " 'elegant',\n",
       " 'interior',\n",
       " 'food',\n",
       " 'absolutely',\n",
       " 'horrible',\n",
       " 'presentation',\n",
       " 'horrible',\n",
       " 'service',\n",
       " 'horrible',\n",
       " 'ordered',\n",
       " 'grilled',\n",
       " 'vegetable',\n",
       " 'gave',\n",
       " 'portion',\n",
       " 'raw',\n",
       " 'eggplant',\n",
       " 'drink',\n",
       " 'essentially',\n",
       " 'coloured',\n",
       " 'water',\n",
       " 'soda',\n",
       " 'tempura',\n",
       " 'pathetic',\n",
       " 'licensed',\n",
       " 'chef',\n",
       " 'regret',\n",
       " 'bringing',\n",
       " 'guest',\n",
       " 'manager',\n",
       " 'tried',\n",
       " 'get',\n",
       " 'accountability',\n",
       " 'asking',\n",
       " 'name',\n",
       " 'unprofessional',\n",
       " 'unaccountable',\n",
       " 'disgusting',\n",
       " 'better',\n",
       " 'try',\n",
       " 'not',\n",
       " 'scam',\n",
       " 'customer',\n",
       " 'pitiful',\n",
       " 'food',\n",
       " 'service',\n",
       " 'good',\n",
       " 'food',\n",
       " 'excellent',\n",
       " 'mr',\n",
       " 'amar',\n",
       " 'singh',\n",
       " 'good',\n",
       " 'job',\n",
       " 'ordered',\n",
       " 'sour',\n",
       " 'dough',\n",
       " 'received',\n",
       " 'bread',\n",
       " 'cheating',\n",
       " 'first',\n",
       " 'time',\n",
       " 'giving',\n",
       " 'star',\n",
       " 'rating',\n",
       " 'food',\n",
       " 'ambience',\n",
       " 'service',\n",
       " 'food',\n",
       " 'perfect',\n",
       " 'start',\n",
       " 'end',\n",
       " 'presentation',\n",
       " 'food',\n",
       " 'add',\n",
       " 'taste',\n",
       " 'wont',\n",
       " 'find',\n",
       " 'tempting',\n",
       " 'delicious',\n",
       " 'food',\n",
       " 'anywhere',\n",
       " 'else',\n",
       " 'jaipur',\n",
       " 'good',\n",
       " 'service',\n",
       " 'ambience',\n",
       " 'head',\n",
       " 'mr',\n",
       " 'amar',\n",
       " 'singh',\n",
       " 'great',\n",
       " 'service',\n",
       " 'humble',\n",
       " 'great',\n",
       " 'staff',\n",
       " 'ordered',\n",
       " 'paneer',\n",
       " 'tikka',\n",
       " 'masala',\n",
       " 'main',\n",
       " 'course',\n",
       " 'chilli',\n",
       " 'paneer',\n",
       " 'starter',\n",
       " 'food',\n",
       " 'taste',\n",
       " 'quantity',\n",
       " 'really',\n",
       " 'good',\n",
       " 'service',\n",
       " 'really',\n",
       " 'quick',\n",
       " 'well',\n",
       " 'always',\n",
       " 'awesome',\n",
       " 'food',\n",
       " 'really',\n",
       " 'know',\n",
       " 'treat',\n",
       " 'guest',\n",
       " 'food',\n",
       " 'diehard',\n",
       " 'fan',\n",
       " 'whole',\n",
       " 'menui',\n",
       " 'went',\n",
       " 'malviya',\n",
       " 'nagar',\n",
       " 'outlet',\n",
       " 'rajapark',\n",
       " 'outlet',\n",
       " 'well',\n",
       " 'singapore',\n",
       " 'never',\n",
       " 'disappointed',\n",
       " 'thanks',\n",
       " 'sanjit',\n",
       " 'barmah',\n",
       " 'whole',\n",
       " 'team',\n",
       " 'kebab',\n",
       " 'special',\n",
       " 'request',\n",
       " 'please',\n",
       " 'come',\n",
       " 'udaipur',\n",
       " 'food',\n",
       " 'served',\n",
       " 'mr',\n",
       " 'shibu',\n",
       " 'super',\n",
       " 'delicious',\n",
       " 'service',\n",
       " 'even',\n",
       " 'betteri',\n",
       " 'loved',\n",
       " 'much',\n",
       " 'paneer',\n",
       " 'lababdar',\n",
       " 'amazing',\n",
       " 'test',\n",
       " 'always',\n",
       " 'fan',\n",
       " 'samrats',\n",
       " 'samosa',\n",
       " 'original',\n",
       " 'outlet',\n",
       " 'chaura',\n",
       " 'rasta',\n",
       " 'visited',\n",
       " 'masala',\n",
       " 'chowk',\n",
       " 'found',\n",
       " 'serve',\n",
       " 'variety',\n",
       " 'tried',\n",
       " 'dabeli',\n",
       " 'vada',\n",
       " 'pav',\n",
       " 'pyaaz',\n",
       " ...]"
      ]
     },
     "execution_count": 16,
     "metadata": {},
     "output_type": "execute_result"
    }
   ],
   "source": [
    "vocab"
   ]
  },
  {
   "cell_type": "code",
   "execution_count": 17,
   "id": "0cb8e6fe",
   "metadata": {},
   "outputs": [
    {
     "data": {
      "text/plain": [
       "16.254773439726417"
      ]
     },
     "execution_count": 17,
     "metadata": {},
     "output_type": "execute_result"
    }
   ],
   "source": [
    "# Find average number of tokens (words) in training\n",
    "sum([len(review.split()) for review in X_train])/len(X_train)"
   ]
  },
  {
   "cell_type": "code",
   "execution_count": null,
   "id": "e1aafebb",
   "metadata": {},
   "outputs": [],
   "source": []
  },
  {
   "cell_type": "code",
   "execution_count": 68,
   "id": "28d692d1",
   "metadata": {},
   "outputs": [],
   "source": [
    "import tensorflow as tf\n",
    "from tensorflow.keras.layers import TextVectorization  #https://www.tensorflow.org/api_docs/python/tf/keras/layers/TextVectorization\n",
    "\n",
    "# Use the default TextVectorization variables\n",
    "text_vectorizer = TextVectorization(max_tokens=10726, # how many words in the vocabulary (all of the different words in your text)\n",
    "                                    standardize=\"lower_and_strip_punctuation\", # how to process text\n",
    "                                    split=\"whitespace\", # how to split tokens\n",
    "                                    ngrams=None, # create groups of n-words?\n",
    "                                    output_mode=\"int\", # how to map tokens to numbers\n",
    "                                    output_sequence_length=17, # how long should the output sequence of tokens be?\n",
    "                                    pad_to_max_tokens=True) # Not valid if using max_tokens=None"
   ]
  },
  {
   "cell_type": "code",
   "execution_count": 69,
   "id": "e69ccfed",
   "metadata": {},
   "outputs": [],
   "source": [
    "# Fit the text vectorizer to the training text\n",
    "text_vectorizer.adapt(X_train)"
   ]
  },
  {
   "cell_type": "code",
   "execution_count": 70,
   "id": "bcf6cc07",
   "metadata": {},
   "outputs": [
    {
     "data": {
      "text/plain": [
       "<keras.src.layers.preprocessing.text_vectorization.TextVectorization at 0x246bdca2c80>"
      ]
     },
     "execution_count": 70,
     "metadata": {},
     "output_type": "execute_result"
    }
   ],
   "source": [
    "text_vectorizer"
   ]
  },
  {
   "cell_type": "code",
   "execution_count": 71,
   "id": "c3ee2695",
   "metadata": {},
   "outputs": [
    {
     "name": "stdout",
     "output_type": "stream",
     "text": [
      "best place visit awesome placei ordered gatta masala paneer delicious taking also helpful good\n"
     ]
    },
    {
     "data": {
      "text/plain": [
       "[15, 4, 16, 36, 2170, 24, 1142, 121, 41, 29, 535, 13, 188, 3, 0, 0, 0]"
      ]
     },
     "execution_count": 71,
     "metadata": {},
     "output_type": "execute_result"
    }
   ],
   "source": [
    "# Create sample sentence and tokenize it\n",
    "sample_sentence = X_train.iloc[4]\n",
    "print(sample_sentence)\n",
    "list(text_vectorizer([sample_sentence]).numpy()[0])"
   ]
  },
  {
   "cell_type": "code",
   "execution_count": 84,
   "id": "69dab1fc",
   "metadata": {},
   "outputs": [
    {
     "data": {
      "text/plain": [
       "array([  15,    4,   16,   36, 2170,   24, 1142,  121,   41,   29,  535,\n",
       "         13,  188,    3,    0,    0,    0], dtype=int64)"
      ]
     },
     "execution_count": 84,
     "metadata": {},
     "output_type": "execute_result"
    }
   ],
   "source": [
    "text_vectorizer([sample_sentence]).numpy()[0]"
   ]
  },
  {
   "cell_type": "code",
   "execution_count": 30,
   "id": "39ab7652",
   "metadata": {},
   "outputs": [],
   "source": [
    "ss= text_vectorizer([\"Food is mainly composed of water, lipids, proteins, and carbohydrates.\"])"
   ]
  },
  {
   "cell_type": "code",
   "execution_count": 83,
   "id": "f0da884c",
   "metadata": {},
   "outputs": [
    {
     "data": {
      "text/plain": [
       "<tf.Tensor: shape=(1, 17), dtype=int64, numpy=\n",
       "array([[   2,    1, 1752,    1,    1,  228,    1,    1,    1,    1,    0,\n",
       "           0,    0,    0,    0,    0,    0]], dtype=int64)>"
      ]
     },
     "execution_count": 83,
     "metadata": {},
     "output_type": "execute_result"
    }
   ],
   "source": [
    "ss"
   ]
  },
  {
   "cell_type": "code",
   "execution_count": 32,
   "id": "ada60359",
   "metadata": {},
   "outputs": [
    {
     "name": "stdout",
     "output_type": "stream",
     "text": [
      "Number of words in vocab: 10726\n",
      "Top 5 most common words: ['', '[UNK]', 'food', 'good', 'place']\n",
      "Bottom 5 least common words: ['aagya', 'aage', 'aagaya', 'aadiivaasii', 'aache']\n"
     ]
    }
   ],
   "source": [
    "# Get the unique words in the vocabulary\n",
    "words_in_vocab = text_vectorizer.get_vocabulary()\n",
    "top_5_words = words_in_vocab[:5] # most common tokens (notice the [UNK] token for \"unknown\" words)\n",
    "bottom_5_words = words_in_vocab[-5:] # least common tokens\n",
    "print(f\"Number of words in vocab: {len(words_in_vocab)}\")\n",
    "print(f\"Top 5 most common words: {top_5_words}\")\n",
    "print(f\"Bottom 5 least common words: {bottom_5_words}\")"
   ]
  },
  {
   "cell_type": "code",
   "execution_count": 34,
   "id": "acdc8107",
   "metadata": {},
   "outputs": [],
   "source": [
    "corpus = []\n",
    "for review in X_train:\n",
    "  corpus.append(list(text_vectorizer([review]).numpy()[0]))"
   ]
  },
  {
   "cell_type": "code",
   "execution_count": 85,
   "id": "3bf27b1b",
   "metadata": {},
   "outputs": [
    {
     "data": {
      "text/plain": [
       "[11, 2, 3, 400, 142, 126, 0, 0, 0, 0, 0, 0, 0, 0, 0, 0, 0]"
      ]
     },
     "execution_count": 85,
     "metadata": {},
     "output_type": "execute_result"
    }
   ],
   "source": [
    "#corpus[:4]\n",
    "#len(corpus)\n",
    "list(text_vectorizer([review]).numpy()[0])"
   ]
  },
  {
   "cell_type": "code",
   "execution_count": 72,
   "id": "dac25001",
   "metadata": {},
   "outputs": [],
   "source": [
    "model = gensim.models.Word2Vec(\n",
    "    vector_size = 128,\n",
    "    window=2,\n",
    "    min_count=0,\n",
    "    sg=1\n",
    ")"
   ]
  },
  {
   "cell_type": "code",
   "execution_count": 73,
   "id": "acab0de2",
   "metadata": {},
   "outputs": [],
   "source": [
    "model.build_vocab(corpus)"
   ]
  },
  {
   "cell_type": "code",
   "execution_count": null,
   "id": "f4edcbf4",
   "metadata": {},
   "outputs": [],
   "source": []
  },
  {
   "cell_type": "code",
   "execution_count": 74,
   "id": "700ae42c",
   "metadata": {},
   "outputs": [
    {
     "data": {
      "text/plain": [
       "7018"
      ]
     },
     "execution_count": 74,
     "metadata": {},
     "output_type": "execute_result"
    }
   ],
   "source": [
    "model.corpus_count"
   ]
  },
  {
   "cell_type": "code",
   "execution_count": 80,
   "id": "a6187495",
   "metadata": {},
   "outputs": [
    {
     "data": {
      "text/plain": [
       "8380"
      ]
     },
     "execution_count": 80,
     "metadata": {},
     "output_type": "execute_result"
    }
   ],
   "source": [
    "len(model.wv)"
   ]
  },
  {
   "cell_type": "code",
   "execution_count": 63,
   "id": "8b13a670",
   "metadata": {},
   "outputs": [
    {
     "data": {
      "text/plain": [
       "<gensim.models.keyedvectors.KeyedVectors at 0x246c10f88e0>"
      ]
     },
     "execution_count": 63,
     "metadata": {},
     "output_type": "execute_result"
    }
   ],
   "source": [
    "word_vectors"
   ]
  },
  {
   "cell_type": "code",
   "execution_count": 46,
   "id": "1262612d",
   "metadata": {},
   "outputs": [
    {
     "data": {
      "text/plain": [
       "(1778519, 2982650)"
      ]
     },
     "execution_count": 46,
     "metadata": {},
     "output_type": "execute_result"
    }
   ],
   "source": [
    "model.train(corpus, total_examples=model.corpus_count, epochs=25)"
   ]
  },
  {
   "cell_type": "code",
   "execution_count": 47,
   "id": "2fac0d20",
   "metadata": {
    "scrolled": true
   },
   "outputs": [
    {
     "data": {
      "text/plain": [
       "10726"
      ]
     },
     "execution_count": 47,
     "metadata": {},
     "output_type": "execute_result"
    }
   ],
   "source": [
    "len(text_vectorizer.get_vocabulary())"
   ]
  },
  {
   "cell_type": "code",
   "execution_count": null,
   "id": "08f61be7",
   "metadata": {},
   "outputs": [],
   "source": []
  },
  {
   "cell_type": "code",
   "execution_count": 48,
   "id": "6c002879",
   "metadata": {
    "scrolled": true
   },
   "outputs": [
    {
     "data": {
      "text/plain": [
       "8380"
      ]
     },
     "execution_count": 48,
     "metadata": {},
     "output_type": "execute_result"
    }
   ],
   "source": [
    "len(model.wv.index_to_key)"
   ]
  },
  {
   "cell_type": "code",
   "execution_count": null,
   "id": "2a89a3e2",
   "metadata": {},
   "outputs": [],
   "source": []
  },
  {
   "cell_type": "code",
   "execution_count": 42,
   "id": "e9398344",
   "metadata": {},
   "outputs": [
    {
     "data": {
      "text/plain": [
       "'aache'"
      ]
     },
     "execution_count": 42,
     "metadata": {},
     "output_type": "execute_result"
    }
   ],
   "source": [
    "text_vectorizer.get_vocabulary()[10725]"
   ]
  },
  {
   "cell_type": "code",
   "execution_count": 43,
   "id": "b1bb9b60",
   "metadata": {},
   "outputs": [
    {
     "data": {
      "text/plain": [
       "2346"
      ]
     },
     "execution_count": 43,
     "metadata": {},
     "output_type": "execute_result"
    }
   ],
   "source": [
    "len(set(range(0, 10726)) - set(model.wv.key_to_index.keys()))"
   ]
  },
  {
   "cell_type": "code",
   "execution_count": 87,
   "id": "2b056fd9",
   "metadata": {},
   "outputs": [],
   "source": [
    "# https://github.com/RaRe-Technologies/gensim/wiki/Using-Gensim-Embeddings-with-Keras-and-Tensorflow\n",
    "\n",
    "from tensorflow.keras.layers import Embedding\n",
    "\n",
    "def gensim_to_keras_embedding(model,input_len = 17, train_embeddings=False):\n",
    "    \"\"\"Get a Keras 'Embedding' layer with weights set from Word2Vec model's learned word embeddings.\n",
    "\n",
    "    Parameters\n",
    "    ----------\n",
    "    train_embeddings : bool\n",
    "        If False, the returned weights are frozen and stopped from being updated.\n",
    "        If True, the weights can / will be further updated in Keras.\n",
    "\n",
    "    Returns\n",
    "    -------\n",
    "    `keras.layers.Embedding`\n",
    "        Embedding layer, to be used as input to deeper network layers.\n",
    "\n",
    "    \"\"\"\n",
    "    keyed_vectors = model.wv  # structure holding the result of training\n",
    "    weights = keyed_vectors.vectors  # vectors themselves, a 2D numpy array\n",
    "    index_to_key = keyed_vectors.index_to_key  # which row in `weights` corresponds to which word?\n",
    "\n",
    "    layer = Embedding(\n",
    "        input_dim=weights.shape[0],\n",
    "        output_dim=weights.shape[1],\n",
    "        weights=[weights],\n",
    "        trainable=train_embeddings,\n",
    "        input_length = input_len\n",
    "    )\n",
    "    return layer"
   ]
  },
  {
   "cell_type": "code",
   "execution_count": 88,
   "id": "be83d502",
   "metadata": {},
   "outputs": [],
   "source": [
    "embedding = gensim_to_keras_embedding(model)"
   ]
  },
  {
   "cell_type": "code",
   "execution_count": 89,
   "id": "d4fb94b0",
   "metadata": {
    "scrolled": true
   },
   "outputs": [
    {
     "name": "stdout",
     "output_type": "stream",
     "text": [
      "Original text:\n",
      "overall perfect experience im happy frequent consumer      \n",
      "\n",
      "Embedded version:\n"
     ]
    },
    {
     "data": {
      "text/plain": [
       "<tf.Tensor: shape=(1, 17, 128), dtype=float32, numpy=\n",
       "array([[[ 0.00469486,  0.00460428, -0.00203377, ..., -0.00388695,\n",
       "         -0.00688968, -0.00275155],\n",
       "        [ 0.00558798, -0.00689156,  0.00250641, ...,  0.00767071,\n",
       "         -0.00650883,  0.0047723 ],\n",
       "        [ 0.00110294,  0.00384858,  0.00402723, ..., -0.00461145,\n",
       "          0.00584636, -0.00567167],\n",
       "        ...,\n",
       "        [-0.00041893,  0.00018471,  0.00398699, ...,  0.00227689,\n",
       "         -0.00385377,  0.00343608],\n",
       "        [-0.00041893,  0.00018471,  0.00398699, ...,  0.00227689,\n",
       "         -0.00385377,  0.00343608],\n",
       "        [-0.00041893,  0.00018471,  0.00398699, ...,  0.00227689,\n",
       "         -0.00385377,  0.00343608]]], dtype=float32)>"
      ]
     },
     "execution_count": 89,
     "metadata": {},
     "output_type": "execute_result"
    }
   ],
   "source": [
    "# Get a random sentence from training set\n",
    "import random\n",
    "random_sentence = random.choice(X_train)\n",
    "print(f\"Original text:\\n{random_sentence}\\\n",
    "      \\n\\nEmbedded version:\")\n",
    "\n",
    "# Embed the random sentence (turn it into numerical representation)\n",
    "sample_embed = embedding(text_vectorizer([random_sentence]))\n",
    "sample_embed"
   ]
  },
  {
   "cell_type": "code",
   "execution_count": 91,
   "id": "cb1b0103",
   "metadata": {},
   "outputs": [],
   "source": [
    "from tensorflow.keras import layers\n",
    "\n",
    "input = layers.Input(shape = (1,), dtype = \"string\")\n",
    "tv = text_vectorizer(input)\n",
    "ebd = embedding(tv)\n",
    "ga = layers.GlobalAveragePooling1D()(ebd)\n",
    "# d1 = layers.Dense(64, activation = \"relu\")(ga)\n",
    "output = layers.Dense(1, activation = \"sigmoid\")(ga)\n",
    "\n",
    "model = tf.keras.Model(inputs = input, outputs = output)"
   ]
  },
  {
   "cell_type": "code",
   "execution_count": 92,
   "id": "b9378c87",
   "metadata": {},
   "outputs": [
    {
     "name": "stdout",
     "output_type": "stream",
     "text": [
      "Model: \"model\"\n",
      "_________________________________________________________________\n",
      " Layer (type)                Output Shape              Param #   \n",
      "=================================================================\n",
      " input_1 (InputLayer)        [(None, 1)]               0         \n",
      "                                                                 \n",
      " text_vectorization_1 (Text  (None, 17)                0         \n",
      " Vectorization)                                                  \n",
      "                                                                 \n",
      " embedding (Embedding)       (None, 17, 128)           1072640   \n",
      "                                                                 \n",
      " global_average_pooling1d (  (None, 128)               0         \n",
      " GlobalAveragePooling1D)                                         \n",
      "                                                                 \n",
      " dense (Dense)               (None, 1)                 129       \n",
      "                                                                 \n",
      "=================================================================\n",
      "Total params: 1072769 (4.09 MB)\n",
      "Trainable params: 129 (516.00 Byte)\n",
      "Non-trainable params: 1072640 (4.09 MB)\n",
      "_________________________________________________________________\n"
     ]
    }
   ],
   "source": [
    "model.summary()"
   ]
  },
  {
   "cell_type": "code",
   "execution_count": 93,
   "id": "19ac8364",
   "metadata": {
    "scrolled": false
   },
   "outputs": [
    {
     "name": "stdout",
     "output_type": "stream",
     "text": [
      "WARNING:tensorflow:From C:\\Users\\palash\\anaconda3\\lib\\site-packages\\keras\\src\\optimizers\\__init__.py:309: The name tf.train.Optimizer is deprecated. Please use tf.compat.v1.train.Optimizer instead.\n",
      "\n",
      "Epoch 1/5\n",
      "WARNING:tensorflow:From C:\\Users\\palash\\anaconda3\\lib\\site-packages\\keras\\src\\engine\\base_layer_utils.py:384: The name tf.executing_eagerly_outside_functions is deprecated. Please use tf.compat.v1.executing_eagerly_outside_functions instead.\n",
      "\n"
     ]
    },
    {
     "ename": "InvalidArgumentError",
     "evalue": "Graph execution error:\n\nDetected at node model/embedding/embedding_lookup defined at (most recent call last):\n  File \"C:\\Users\\palash\\anaconda3\\lib\\runpy.py\", line 196, in _run_module_as_main\n\n  File \"C:\\Users\\palash\\anaconda3\\lib\\runpy.py\", line 86, in _run_code\n\n  File \"C:\\Users\\palash\\anaconda3\\lib\\site-packages\\ipykernel_launcher.py\", line 17, in <module>\n\n  File \"C:\\Users\\palash\\anaconda3\\lib\\site-packages\\traitlets\\config\\application.py\", line 992, in launch_instance\n\n  File \"C:\\Users\\palash\\anaconda3\\lib\\site-packages\\ipykernel\\kernelapp.py\", line 711, in start\n\n  File \"C:\\Users\\palash\\anaconda3\\lib\\site-packages\\tornado\\platform\\asyncio.py\", line 199, in start\n\n  File \"C:\\Users\\palash\\anaconda3\\lib\\asyncio\\base_events.py\", line 603, in run_forever\n\n  File \"C:\\Users\\palash\\anaconda3\\lib\\asyncio\\base_events.py\", line 1906, in _run_once\n\n  File \"C:\\Users\\palash\\anaconda3\\lib\\asyncio\\events.py\", line 80, in _run\n\n  File \"C:\\Users\\palash\\anaconda3\\lib\\site-packages\\ipykernel\\kernelbase.py\", line 510, in dispatch_queue\n\n  File \"C:\\Users\\palash\\anaconda3\\lib\\site-packages\\ipykernel\\kernelbase.py\", line 499, in process_one\n\n  File \"C:\\Users\\palash\\anaconda3\\lib\\site-packages\\ipykernel\\kernelbase.py\", line 406, in dispatch_shell\n\n  File \"C:\\Users\\palash\\anaconda3\\lib\\site-packages\\ipykernel\\kernelbase.py\", line 729, in execute_request\n\n  File \"C:\\Users\\palash\\anaconda3\\lib\\site-packages\\ipykernel\\ipkernel.py\", line 411, in do_execute\n\n  File \"C:\\Users\\palash\\anaconda3\\lib\\site-packages\\ipykernel\\zmqshell.py\", line 531, in run_cell\n\n  File \"C:\\Users\\palash\\anaconda3\\lib\\site-packages\\IPython\\core\\interactiveshell.py\", line 2961, in run_cell\n\n  File \"C:\\Users\\palash\\anaconda3\\lib\\site-packages\\IPython\\core\\interactiveshell.py\", line 3016, in _run_cell\n\n  File \"C:\\Users\\palash\\anaconda3\\lib\\site-packages\\IPython\\core\\async_helpers.py\", line 129, in _pseudo_sync_runner\n\n  File \"C:\\Users\\palash\\anaconda3\\lib\\site-packages\\IPython\\core\\interactiveshell.py\", line 3221, in run_cell_async\n\n  File \"C:\\Users\\palash\\anaconda3\\lib\\site-packages\\IPython\\core\\interactiveshell.py\", line 3400, in run_ast_nodes\n\n  File \"C:\\Users\\palash\\anaconda3\\lib\\site-packages\\IPython\\core\\interactiveshell.py\", line 3460, in run_code\n\n  File \"C:\\Users\\palash\\AppData\\Local\\Temp\\ipykernel_10896\\2745785850.py\", line 9, in <module>\n\n  File \"C:\\Users\\palash\\anaconda3\\lib\\site-packages\\keras\\src\\utils\\traceback_utils.py\", line 65, in error_handler\n\n  File \"C:\\Users\\palash\\anaconda3\\lib\\site-packages\\keras\\src\\engine\\training.py\", line 1807, in fit\n\n  File \"C:\\Users\\palash\\anaconda3\\lib\\site-packages\\keras\\src\\engine\\training.py\", line 1401, in train_function\n\n  File \"C:\\Users\\palash\\anaconda3\\lib\\site-packages\\keras\\src\\engine\\training.py\", line 1384, in step_function\n\n  File \"C:\\Users\\palash\\anaconda3\\lib\\site-packages\\keras\\src\\engine\\training.py\", line 1373, in run_step\n\n  File \"C:\\Users\\palash\\anaconda3\\lib\\site-packages\\keras\\src\\engine\\training.py\", line 1150, in train_step\n\n  File \"C:\\Users\\palash\\anaconda3\\lib\\site-packages\\keras\\src\\utils\\traceback_utils.py\", line 65, in error_handler\n\n  File \"C:\\Users\\palash\\anaconda3\\lib\\site-packages\\keras\\src\\engine\\training.py\", line 590, in __call__\n\n  File \"C:\\Users\\palash\\anaconda3\\lib\\site-packages\\keras\\src\\utils\\traceback_utils.py\", line 65, in error_handler\n\n  File \"C:\\Users\\palash\\anaconda3\\lib\\site-packages\\keras\\src\\engine\\base_layer.py\", line 1149, in __call__\n\n  File \"C:\\Users\\palash\\anaconda3\\lib\\site-packages\\keras\\src\\utils\\traceback_utils.py\", line 96, in error_handler\n\n  File \"C:\\Users\\palash\\anaconda3\\lib\\site-packages\\keras\\src\\engine\\functional.py\", line 515, in call\n\n  File \"C:\\Users\\palash\\anaconda3\\lib\\site-packages\\keras\\src\\engine\\functional.py\", line 672, in _run_internal_graph\n\n  File \"C:\\Users\\palash\\anaconda3\\lib\\site-packages\\keras\\src\\utils\\traceback_utils.py\", line 65, in error_handler\n\n  File \"C:\\Users\\palash\\anaconda3\\lib\\site-packages\\keras\\src\\engine\\base_layer.py\", line 1149, in __call__\n\n  File \"C:\\Users\\palash\\anaconda3\\lib\\site-packages\\keras\\src\\utils\\traceback_utils.py\", line 96, in error_handler\n\n  File \"C:\\Users\\palash\\anaconda3\\lib\\site-packages\\keras\\src\\layers\\core\\embedding.py\", line 272, in call\n\nindices[15,9] = 8979 is not in [0, 8380)\n\t [[{{node model/embedding/embedding_lookup}}]] [Op:__inference_train_function_311193]",
     "output_type": "error",
     "traceback": [
      "\u001b[1;31m---------------------------------------------------------------------------\u001b[0m",
      "\u001b[1;31mInvalidArgumentError\u001b[0m                      Traceback (most recent call last)",
      "Cell \u001b[1;32mIn[93], line 9\u001b[0m\n\u001b[0;32m      1\u001b[0m model\u001b[38;5;241m.\u001b[39mcompile(\n\u001b[0;32m      2\u001b[0m     loss \u001b[38;5;241m=\u001b[39m \u001b[38;5;124m\"\u001b[39m\u001b[38;5;124mbinary_crossentropy\u001b[39m\u001b[38;5;124m\"\u001b[39m,\n\u001b[0;32m      3\u001b[0m     optimizer \u001b[38;5;241m=\u001b[39m \u001b[38;5;124m\"\u001b[39m\u001b[38;5;124madam\u001b[39m\u001b[38;5;124m\"\u001b[39m,\n\u001b[0;32m      4\u001b[0m     metrics \u001b[38;5;241m=\u001b[39m [\u001b[38;5;124m\"\u001b[39m\u001b[38;5;124maccuracy\u001b[39m\u001b[38;5;124m\"\u001b[39m]\n\u001b[0;32m      5\u001b[0m )\n\u001b[0;32m      7\u001b[0m \u001b[38;5;66;03m# train_sentences, val_sentences, train_labels, val_labels\u001b[39;00m\n\u001b[1;32m----> 9\u001b[0m \u001b[43mmodel\u001b[49m\u001b[38;5;241;43m.\u001b[39;49m\u001b[43mfit\u001b[49m\u001b[43m(\u001b[49m\u001b[43mX_train\u001b[49m\u001b[43m,\u001b[49m\u001b[43m \u001b[49m\u001b[43my_train\u001b[49m\u001b[43m,\u001b[49m\u001b[43m \u001b[49m\u001b[43mepochs\u001b[49m\u001b[43m \u001b[49m\u001b[38;5;241;43m=\u001b[39;49m\u001b[43m \u001b[49m\u001b[38;5;241;43m5\u001b[39;49m\u001b[43m)\u001b[49m\n",
      "File \u001b[1;32m~\\anaconda3\\lib\\site-packages\\keras\\src\\utils\\traceback_utils.py:70\u001b[0m, in \u001b[0;36mfilter_traceback.<locals>.error_handler\u001b[1;34m(*args, **kwargs)\u001b[0m\n\u001b[0;32m     67\u001b[0m     filtered_tb \u001b[38;5;241m=\u001b[39m _process_traceback_frames(e\u001b[38;5;241m.\u001b[39m__traceback__)\n\u001b[0;32m     68\u001b[0m     \u001b[38;5;66;03m# To get the full stack trace, call:\u001b[39;00m\n\u001b[0;32m     69\u001b[0m     \u001b[38;5;66;03m# `tf.debugging.disable_traceback_filtering()`\u001b[39;00m\n\u001b[1;32m---> 70\u001b[0m     \u001b[38;5;28;01mraise\u001b[39;00m e\u001b[38;5;241m.\u001b[39mwith_traceback(filtered_tb) \u001b[38;5;28;01mfrom\u001b[39;00m \u001b[38;5;28mNone\u001b[39m\n\u001b[0;32m     71\u001b[0m \u001b[38;5;28;01mfinally\u001b[39;00m:\n\u001b[0;32m     72\u001b[0m     \u001b[38;5;28;01mdel\u001b[39;00m filtered_tb\n",
      "File \u001b[1;32m~\\anaconda3\\lib\\site-packages\\tensorflow\\python\\eager\\execute.py:53\u001b[0m, in \u001b[0;36mquick_execute\u001b[1;34m(op_name, num_outputs, inputs, attrs, ctx, name)\u001b[0m\n\u001b[0;32m     51\u001b[0m \u001b[38;5;28;01mtry\u001b[39;00m:\n\u001b[0;32m     52\u001b[0m   ctx\u001b[38;5;241m.\u001b[39mensure_initialized()\n\u001b[1;32m---> 53\u001b[0m   tensors \u001b[38;5;241m=\u001b[39m pywrap_tfe\u001b[38;5;241m.\u001b[39mTFE_Py_Execute(ctx\u001b[38;5;241m.\u001b[39m_handle, device_name, op_name,\n\u001b[0;32m     54\u001b[0m                                       inputs, attrs, num_outputs)\n\u001b[0;32m     55\u001b[0m \u001b[38;5;28;01mexcept\u001b[39;00m core\u001b[38;5;241m.\u001b[39m_NotOkStatusException \u001b[38;5;28;01mas\u001b[39;00m e:\n\u001b[0;32m     56\u001b[0m   \u001b[38;5;28;01mif\u001b[39;00m name \u001b[38;5;129;01mis\u001b[39;00m \u001b[38;5;129;01mnot\u001b[39;00m \u001b[38;5;28;01mNone\u001b[39;00m:\n",
      "\u001b[1;31mInvalidArgumentError\u001b[0m: Graph execution error:\n\nDetected at node model/embedding/embedding_lookup defined at (most recent call last):\n  File \"C:\\Users\\palash\\anaconda3\\lib\\runpy.py\", line 196, in _run_module_as_main\n\n  File \"C:\\Users\\palash\\anaconda3\\lib\\runpy.py\", line 86, in _run_code\n\n  File \"C:\\Users\\palash\\anaconda3\\lib\\site-packages\\ipykernel_launcher.py\", line 17, in <module>\n\n  File \"C:\\Users\\palash\\anaconda3\\lib\\site-packages\\traitlets\\config\\application.py\", line 992, in launch_instance\n\n  File \"C:\\Users\\palash\\anaconda3\\lib\\site-packages\\ipykernel\\kernelapp.py\", line 711, in start\n\n  File \"C:\\Users\\palash\\anaconda3\\lib\\site-packages\\tornado\\platform\\asyncio.py\", line 199, in start\n\n  File \"C:\\Users\\palash\\anaconda3\\lib\\asyncio\\base_events.py\", line 603, in run_forever\n\n  File \"C:\\Users\\palash\\anaconda3\\lib\\asyncio\\base_events.py\", line 1906, in _run_once\n\n  File \"C:\\Users\\palash\\anaconda3\\lib\\asyncio\\events.py\", line 80, in _run\n\n  File \"C:\\Users\\palash\\anaconda3\\lib\\site-packages\\ipykernel\\kernelbase.py\", line 510, in dispatch_queue\n\n  File \"C:\\Users\\palash\\anaconda3\\lib\\site-packages\\ipykernel\\kernelbase.py\", line 499, in process_one\n\n  File \"C:\\Users\\palash\\anaconda3\\lib\\site-packages\\ipykernel\\kernelbase.py\", line 406, in dispatch_shell\n\n  File \"C:\\Users\\palash\\anaconda3\\lib\\site-packages\\ipykernel\\kernelbase.py\", line 729, in execute_request\n\n  File \"C:\\Users\\palash\\anaconda3\\lib\\site-packages\\ipykernel\\ipkernel.py\", line 411, in do_execute\n\n  File \"C:\\Users\\palash\\anaconda3\\lib\\site-packages\\ipykernel\\zmqshell.py\", line 531, in run_cell\n\n  File \"C:\\Users\\palash\\anaconda3\\lib\\site-packages\\IPython\\core\\interactiveshell.py\", line 2961, in run_cell\n\n  File \"C:\\Users\\palash\\anaconda3\\lib\\site-packages\\IPython\\core\\interactiveshell.py\", line 3016, in _run_cell\n\n  File \"C:\\Users\\palash\\anaconda3\\lib\\site-packages\\IPython\\core\\async_helpers.py\", line 129, in _pseudo_sync_runner\n\n  File \"C:\\Users\\palash\\anaconda3\\lib\\site-packages\\IPython\\core\\interactiveshell.py\", line 3221, in run_cell_async\n\n  File \"C:\\Users\\palash\\anaconda3\\lib\\site-packages\\IPython\\core\\interactiveshell.py\", line 3400, in run_ast_nodes\n\n  File \"C:\\Users\\palash\\anaconda3\\lib\\site-packages\\IPython\\core\\interactiveshell.py\", line 3460, in run_code\n\n  File \"C:\\Users\\palash\\AppData\\Local\\Temp\\ipykernel_10896\\2745785850.py\", line 9, in <module>\n\n  File \"C:\\Users\\palash\\anaconda3\\lib\\site-packages\\keras\\src\\utils\\traceback_utils.py\", line 65, in error_handler\n\n  File \"C:\\Users\\palash\\anaconda3\\lib\\site-packages\\keras\\src\\engine\\training.py\", line 1807, in fit\n\n  File \"C:\\Users\\palash\\anaconda3\\lib\\site-packages\\keras\\src\\engine\\training.py\", line 1401, in train_function\n\n  File \"C:\\Users\\palash\\anaconda3\\lib\\site-packages\\keras\\src\\engine\\training.py\", line 1384, in step_function\n\n  File \"C:\\Users\\palash\\anaconda3\\lib\\site-packages\\keras\\src\\engine\\training.py\", line 1373, in run_step\n\n  File \"C:\\Users\\palash\\anaconda3\\lib\\site-packages\\keras\\src\\engine\\training.py\", line 1150, in train_step\n\n  File \"C:\\Users\\palash\\anaconda3\\lib\\site-packages\\keras\\src\\utils\\traceback_utils.py\", line 65, in error_handler\n\n  File \"C:\\Users\\palash\\anaconda3\\lib\\site-packages\\keras\\src\\engine\\training.py\", line 590, in __call__\n\n  File \"C:\\Users\\palash\\anaconda3\\lib\\site-packages\\keras\\src\\utils\\traceback_utils.py\", line 65, in error_handler\n\n  File \"C:\\Users\\palash\\anaconda3\\lib\\site-packages\\keras\\src\\engine\\base_layer.py\", line 1149, in __call__\n\n  File \"C:\\Users\\palash\\anaconda3\\lib\\site-packages\\keras\\src\\utils\\traceback_utils.py\", line 96, in error_handler\n\n  File \"C:\\Users\\palash\\anaconda3\\lib\\site-packages\\keras\\src\\engine\\functional.py\", line 515, in call\n\n  File \"C:\\Users\\palash\\anaconda3\\lib\\site-packages\\keras\\src\\engine\\functional.py\", line 672, in _run_internal_graph\n\n  File \"C:\\Users\\palash\\anaconda3\\lib\\site-packages\\keras\\src\\utils\\traceback_utils.py\", line 65, in error_handler\n\n  File \"C:\\Users\\palash\\anaconda3\\lib\\site-packages\\keras\\src\\engine\\base_layer.py\", line 1149, in __call__\n\n  File \"C:\\Users\\palash\\anaconda3\\lib\\site-packages\\keras\\src\\utils\\traceback_utils.py\", line 96, in error_handler\n\n  File \"C:\\Users\\palash\\anaconda3\\lib\\site-packages\\keras\\src\\layers\\core\\embedding.py\", line 272, in call\n\nindices[15,9] = 8979 is not in [0, 8380)\n\t [[{{node model/embedding/embedding_lookup}}]] [Op:__inference_train_function_311193]"
     ]
    }
   ],
   "source": [
    "model.compile(\n",
    "    loss = \"binary_crossentropy\",\n",
    "    optimizer = \"adam\",\n",
    "    metrics = [\"accuracy\"]\n",
    ")\n",
    "\n",
    "# train_sentences, val_sentences, train_labels, val_labels\n",
    "\n",
    "model.fit(X_train, y_train, epochs = 5)"
   ]
  },
  {
   "cell_type": "code",
   "execution_count": 94,
   "id": "83188b0b",
   "metadata": {},
   "outputs": [],
   "source": [
    "import tensorflow as tf\n",
    "from tensorflow.keras.layers import TextVectorization  #https://www.tensorflow.org/api_docs/python/tf/keras/layers/TextVectorization\n",
    "\n",
    "# Use the default TextVectorization variables\n",
    "text_vectorizer = TextVectorization(max_tokens=None, # how many words in the vocabulary (all of the different words in your text)\n",
    "                                    standardize=\"lower_and_strip_punctuation\", # how to process text\n",
    "                                    split=\"whitespace\", # how to split tokens\n",
    "                                    ngrams=None, # create groups of n-words?\n",
    "                                    output_mode=\"int\", # how to map tokens to numbers\n",
    "                                    output_sequence_length=17) # how long should the output sequence of tokens be?\n",
    "                                    # pad_to_max_tokens=True)\n",
    "text_vectorizer.adapt(X_train)"
   ]
  },
  {
   "cell_type": "code",
   "execution_count": 95,
   "id": "403b880f",
   "metadata": {},
   "outputs": [],
   "source": [
    "from tensorflow.keras.layers import Embedding\n",
    "ebd_layer = Embedding(\n",
    "    input_dim = len(text_vectorizer.get_vocabulary()),\n",
    "    output_dim = 128,\n",
    "    input_length = 17\n",
    ")"
   ]
  },
  {
   "cell_type": "code",
   "execution_count": 96,
   "id": "e33f6de3",
   "metadata": {},
   "outputs": [
    {
     "data": {
      "text/plain": [
       "[]"
      ]
     },
     "execution_count": 96,
     "metadata": {},
     "output_type": "execute_result"
    }
   ],
   "source": [
    "ebd_layer.get_weights()"
   ]
  },
  {
   "cell_type": "code",
   "execution_count": 97,
   "id": "fbf3ef09",
   "metadata": {},
   "outputs": [
    {
     "name": "stdout",
     "output_type": "stream",
     "text": [
      "Model: \"model_1\"\n",
      "_________________________________________________________________\n",
      " Layer (type)                Output Shape              Param #   \n",
      "=================================================================\n",
      " input_2 (InputLayer)        [(None, 1)]               0         \n",
      "                                                                 \n",
      " text_vectorization_2 (Text  (None, 17)                0         \n",
      " Vectorization)                                                  \n",
      "                                                                 \n",
      " embedding_1 (Embedding)     (None, 17, 128)           1373184   \n",
      "                                                                 \n",
      " global_average_pooling1d_1  (None, 128)               0         \n",
      "  (GlobalAveragePooling1D)                                       \n",
      "                                                                 \n",
      " dense_1 (Dense)             (None, 1)                 129       \n",
      "                                                                 \n",
      "=================================================================\n",
      "Total params: 1373313 (5.24 MB)\n",
      "Trainable params: 1373313 (5.24 MB)\n",
      "Non-trainable params: 0 (0.00 Byte)\n",
      "_________________________________________________________________\n"
     ]
    }
   ],
   "source": [
    "input = tf.keras.layers.Input(shape = (1,), dtype= \"string\")\n",
    "tv = text_vectorizer(input)\n",
    "ebd = ebd_layer(tv)\n",
    "ga = tf.keras.layers.GlobalAveragePooling1D()(ebd)\n",
    "# d1 = tf.keras.layers.Dense(16, activation = \"relu\")(ga)\n",
    "output = tf.keras.layers.Dense(1, activation = \"sigmoid\")(ga)\n",
    "\n",
    "model_ebd = tf.keras.Model(inputs = input, outputs = output)\n",
    "model_ebd.summary()"
   ]
  },
  {
   "cell_type": "code",
   "execution_count": 59,
   "id": "c87d6744",
   "metadata": {},
   "outputs": [
    {
     "name": "stdout",
     "output_type": "stream",
     "text": [
      "Epoch 1/4\n",
      "220/220 [==============================] - 6s 25ms/step - loss: 0.5194 - accuracy: 0.8058 - val_loss: 0.3551 - val_accuracy: 0.8949\n",
      "Epoch 2/4\n",
      "220/220 [==============================] - 6s 25ms/step - loss: 0.2740 - accuracy: 0.9248 - val_loss: 0.2488 - val_accuracy: 0.9124\n",
      "Epoch 3/4\n",
      "220/220 [==============================] - 5s 25ms/step - loss: 0.1970 - accuracy: 0.9410 - val_loss: 0.2212 - val_accuracy: 0.9201\n",
      "Epoch 4/4\n",
      "220/220 [==============================] - 6s 27ms/step - loss: 0.1600 - accuracy: 0.9521 - val_loss: 0.2155 - val_accuracy: 0.9265\n"
     ]
    }
   ],
   "source": [
    "tf.random.set_seed(42)\n",
    "from tensorflow.keras.layers import Embedding\n",
    "ebd_layer = Embedding(\n",
    "    input_dim = len(text_vectorizer.get_vocabulary()),\n",
    "    output_dim = 128,\n",
    "    input_length = 17\n",
    ")\n",
    "input = tf.keras.layers.Input(shape = (1,), dtype= \"string\")\n",
    "tv = text_vectorizer(input)\n",
    "ebd = ebd_layer(tv)\n",
    "ga = tf.keras.layers.GlobalAveragePooling1D()(ebd)\n",
    "# d1 = tf.keras.layers.Dense(16, activation = \"relu\")(ga)\n",
    "output = tf.keras.layers.Dense(1, activation = \"sigmoid\")(ga)\n",
    "\n",
    "model_ebd = tf.keras.Model(inputs = input, outputs = output)\n",
    "\n",
    "model_ebd.compile(\n",
    "    loss = \"binary_crossentropy\",\n",
    "    optimizer = \"adam\",\n",
    "    metrics = [\"accuracy\"]\n",
    ")\n",
    "result_ebd = model_ebd.fit(X_train, y_train, epochs = 4, validation_data = (X_valid, y_valid))"
   ]
  },
  {
   "cell_type": "code",
   "execution_count": 60,
   "id": "1294205a",
   "metadata": {},
   "outputs": [
    {
     "name": "stdout",
     "output_type": "stream",
     "text": [
      "74/74 [==============================] - 0s 2ms/step\n"
     ]
    },
    {
     "data": {
      "text/plain": [
       "array([[0.73557264],\n",
       "       [0.9605301 ],\n",
       "       [0.95730984],\n",
       "       [0.16641568],\n",
       "       [0.96533275]], dtype=float32)"
      ]
     },
     "execution_count": 60,
     "metadata": {},
     "output_type": "execute_result"
    }
   ],
   "source": [
    "y_pred_ebd = model_ebd.predict(X_valid)\n",
    "y_pred_ebd[:5]"
   ]
  },
  {
   "cell_type": "code",
   "execution_count": 61,
   "id": "3b2b5187",
   "metadata": {},
   "outputs": [
    {
     "data": {
      "text/plain": [
       "array([[1],\n",
       "       [1],\n",
       "       [1],\n",
       "       ...,\n",
       "       [0],\n",
       "       [0],\n",
       "       [1]])"
      ]
     },
     "execution_count": 61,
     "metadata": {},
     "output_type": "execute_result"
    }
   ],
   "source": [
    "np.where(y_pred_ebd>=0.5, 1,0)"
   ]
  },
  {
   "cell_type": "code",
   "execution_count": 62,
   "id": "4bc169af",
   "metadata": {},
   "outputs": [
    {
     "data": {
      "text/plain": [
       "array([1., 1., 1., 0., 1.], dtype=float32)"
      ]
     },
     "execution_count": 62,
     "metadata": {},
     "output_type": "execute_result"
    }
   ],
   "source": [
    "y_pred_ebd_flat = np.round(y_pred_ebd).flatten()\n",
    "y_pred_ebd_flat[:5]"
   ]
  },
  {
   "cell_type": "code",
   "execution_count": 63,
   "id": "fe4b04a0",
   "metadata": {},
   "outputs": [
    {
     "data": {
      "text/plain": [
       "6741    1\n",
       "5158    1\n",
       "102     1\n",
       "2167    1\n",
       "1130    1\n",
       "Name: sentiment, dtype: int64"
      ]
     },
     "execution_count": 63,
     "metadata": {},
     "output_type": "execute_result"
    }
   ],
   "source": [
    "y_valid[:5]"
   ]
  },
  {
   "cell_type": "code",
   "execution_count": 64,
   "id": "59ade9cc",
   "metadata": {},
   "outputs": [
    {
     "name": "stdout",
     "output_type": "stream",
     "text": [
      "              precision    recall  f1-score   support\n",
      "\n",
      "           0       0.93      0.94      0.94      1410\n",
      "           1       0.91      0.90      0.91       930\n",
      "\n",
      "    accuracy                           0.93      2340\n",
      "   macro avg       0.92      0.92      0.92      2340\n",
      "weighted avg       0.93      0.93      0.93      2340\n",
      "\n"
     ]
    }
   ],
   "source": [
    "from sklearn.metrics import classification_report,confusion_matrix\n",
    "print(classification_report(y_valid, y_pred_ebd_flat))"
   ]
  },
  {
   "cell_type": "code",
   "execution_count": 65,
   "id": "2ab6c725",
   "metadata": {},
   "outputs": [
    {
     "data": {
      "text/plain": [
       "(10728, 128)"
      ]
     },
     "execution_count": 65,
     "metadata": {},
     "output_type": "execute_result"
    }
   ],
   "source": [
    "ebd_layer.get_weights()[0].shape"
   ]
  },
  {
   "cell_type": "code",
   "execution_count": 66,
   "id": "69098724",
   "metadata": {},
   "outputs": [
    {
     "data": {
      "text/plain": [
       "array([[ 0.01325517, -0.02686268, -0.02637479, ...,  0.00028612,\n",
       "         0.00683883, -0.05066485],\n",
       "       [-0.04962243,  0.03594908, -0.02034652, ...,  0.01815004,\n",
       "         0.03257399, -0.04494863],\n",
       "       [-0.04467124,  0.07065123,  0.03170334, ...,  0.00147509,\n",
       "         0.01003034, -0.07288383],\n",
       "       ...,\n",
       "       [ 0.0547647 , -0.04700103, -0.02073087, ..., -0.00491996,\n",
       "         0.07418086,  0.07791632],\n",
       "       [-0.08009841,  0.07165869,  0.05388992, ...,  0.07147376,\n",
       "        -0.07955992, -0.03975553],\n",
       "       [-0.02444868,  0.10294838,  0.09063026, ...,  0.09739957,\n",
       "        -0.07856586, -0.0991958 ]], dtype=float32)"
      ]
     },
     "execution_count": 66,
     "metadata": {},
     "output_type": "execute_result"
    }
   ],
   "source": [
    "ebd_layer.get_weights()[0]"
   ]
  },
  {
   "cell_type": "code",
   "execution_count": 67,
   "id": "1b515a50",
   "metadata": {},
   "outputs": [
    {
     "name": "stderr",
     "output_type": "stream",
     "text": [
      "[nltk_data] Downloading collection 'popular'\n",
      "[nltk_data]    | \n",
      "[nltk_data]    | Downloading package cmudict to\n",
      "[nltk_data]    |     C:\\Users\\palash\\AppData\\Roaming\\nltk_data...\n",
      "[nltk_data]    |   Package cmudict is already up-to-date!\n",
      "[nltk_data]    | Downloading package gazetteers to\n",
      "[nltk_data]    |     C:\\Users\\palash\\AppData\\Roaming\\nltk_data...\n",
      "[nltk_data]    |   Package gazetteers is already up-to-date!\n",
      "[nltk_data]    | Downloading package genesis to\n",
      "[nltk_data]    |     C:\\Users\\palash\\AppData\\Roaming\\nltk_data...\n",
      "[nltk_data]    |   Package genesis is already up-to-date!\n",
      "[nltk_data]    | Downloading package gutenberg to\n",
      "[nltk_data]    |     C:\\Users\\palash\\AppData\\Roaming\\nltk_data...\n",
      "[nltk_data]    |   Package gutenberg is already up-to-date!\n",
      "[nltk_data]    | Downloading package inaugural to\n",
      "[nltk_data]    |     C:\\Users\\palash\\AppData\\Roaming\\nltk_data...\n",
      "[nltk_data]    |   Package inaugural is already up-to-date!\n",
      "[nltk_data]    | Downloading package movie_reviews to\n",
      "[nltk_data]    |     C:\\Users\\palash\\AppData\\Roaming\\nltk_data...\n",
      "[nltk_data]    |   Package movie_reviews is already up-to-date!\n",
      "[nltk_data]    | Downloading package names to\n",
      "[nltk_data]    |     C:\\Users\\palash\\AppData\\Roaming\\nltk_data...\n",
      "[nltk_data]    |   Package names is already up-to-date!\n",
      "[nltk_data]    | Downloading package shakespeare to\n",
      "[nltk_data]    |     C:\\Users\\palash\\AppData\\Roaming\\nltk_data...\n",
      "[nltk_data]    |   Package shakespeare is already up-to-date!\n",
      "[nltk_data]    | Downloading package stopwords to\n",
      "[nltk_data]    |     C:\\Users\\palash\\AppData\\Roaming\\nltk_data...\n",
      "[nltk_data]    |   Package stopwords is already up-to-date!\n",
      "[nltk_data]    | Downloading package treebank to\n",
      "[nltk_data]    |     C:\\Users\\palash\\AppData\\Roaming\\nltk_data...\n",
      "[nltk_data]    |   Package treebank is already up-to-date!\n",
      "[nltk_data]    | Downloading package twitter_samples to\n",
      "[nltk_data]    |     C:\\Users\\palash\\AppData\\Roaming\\nltk_data...\n",
      "[nltk_data]    |   Package twitter_samples is already up-to-date!\n",
      "[nltk_data]    | Downloading package omw to\n",
      "[nltk_data]    |     C:\\Users\\palash\\AppData\\Roaming\\nltk_data...\n",
      "[nltk_data]    |   Package omw is already up-to-date!\n",
      "[nltk_data]    | Downloading package omw-1.4 to\n",
      "[nltk_data]    |     C:\\Users\\palash\\AppData\\Roaming\\nltk_data...\n",
      "[nltk_data]    |   Package omw-1.4 is already up-to-date!\n",
      "[nltk_data]    | Downloading package wordnet to\n",
      "[nltk_data]    |     C:\\Users\\palash\\AppData\\Roaming\\nltk_data...\n",
      "[nltk_data]    |   Package wordnet is already up-to-date!\n",
      "[nltk_data]    | Downloading package wordnet2021 to\n",
      "[nltk_data]    |     C:\\Users\\palash\\AppData\\Roaming\\nltk_data...\n",
      "[nltk_data]    |   Package wordnet2021 is already up-to-date!\n",
      "[nltk_data]    | Downloading package wordnet31 to\n",
      "[nltk_data]    |     C:\\Users\\palash\\AppData\\Roaming\\nltk_data...\n",
      "[nltk_data]    |   Package wordnet31 is already up-to-date!\n",
      "[nltk_data]    | Downloading package wordnet_ic to\n",
      "[nltk_data]    |     C:\\Users\\palash\\AppData\\Roaming\\nltk_data...\n",
      "[nltk_data]    |   Package wordnet_ic is already up-to-date!\n",
      "[nltk_data]    | Downloading package words to\n",
      "[nltk_data]    |     C:\\Users\\palash\\AppData\\Roaming\\nltk_data...\n",
      "[nltk_data]    |   Package words is already up-to-date!\n",
      "[nltk_data]    | Downloading package maxent_ne_chunker to\n",
      "[nltk_data]    |     C:\\Users\\palash\\AppData\\Roaming\\nltk_data...\n",
      "[nltk_data]    |   Package maxent_ne_chunker is already up-to-date!\n",
      "[nltk_data]    | Downloading package punkt to\n",
      "[nltk_data]    |     C:\\Users\\palash\\AppData\\Roaming\\nltk_data...\n",
      "[nltk_data]    |   Package punkt is already up-to-date!\n",
      "[nltk_data]    | Downloading package snowball_data to\n",
      "[nltk_data]    |     C:\\Users\\palash\\AppData\\Roaming\\nltk_data...\n",
      "[nltk_data]    |   Package snowball_data is already up-to-date!\n",
      "[nltk_data]    | Downloading package averaged_perceptron_tagger to\n",
      "[nltk_data]    |     C:\\Users\\palash\\AppData\\Roaming\\nltk_data...\n",
      "[nltk_data]    |   Package averaged_perceptron_tagger is already up-\n",
      "[nltk_data]    |       to-date!\n",
      "[nltk_data]    | \n",
      "[nltk_data]  Done downloading collection popular\n"
     ]
    },
    {
     "data": {
      "text/plain": [
       "True"
      ]
     },
     "execution_count": 67,
     "metadata": {},
     "output_type": "execute_result"
    }
   ],
   "source": [
    "import nltk\n",
    "import re\n",
    "# import emoji\n",
    "import string\n",
    "from nltk.stem import WordNetLemmatizer\n",
    "nltk.download('popular')"
   ]
  },
  {
   "cell_type": "code",
   "execution_count": 70,
   "id": "3845abb4",
   "metadata": {},
   "outputs": [],
   "source": [
    "with open(r\"C:\\Users\\palash\\Downloads\\sw_new.txt\", \"r\") as f:\n",
    "  sw_new = f.read()\n",
    "sw_new = sw_new.split(\"\\n\")"
   ]
  },
  {
   "cell_type": "code",
   "execution_count": 71,
   "id": "eb809117",
   "metadata": {},
   "outputs": [],
   "source": [
    "def text_cleaner(text, sw = sw_new):\n",
    "  import nltk\n",
    "  import re\n",
    "  # import emoji\n",
    "  import string\n",
    "  from nltk.stem import WordNetLemmatizer\n",
    "\n",
    "  # mobile_regex = \"(\\+*)((0[ -]*)*|((91 )*))((\\d{12})+|(\\d{10})+)|\\d{5}([- ]*)\\d{6}\"\n",
    "  url_regex = \"((http|https|www)\\:\\/\\/)?[a-zA-Z0-9\\.\\/\\?\\:@\\-_=#]+\\.([a-zA-Z]){2,6}([a-zA-Z0-9\\.\\&\\/\\?\\:@\\-_=#])*\"\n",
    "  space_regex = \"\\s\\s+\"\n",
    "  # remove url\n",
    "  text = re.sub(url_regex, \"\", text)\n",
    "  # remove mobile\n",
    "  # text = re.sub(mobile_regex, \"\", text)\n",
    "  # lower casing\n",
    "  text = text.lower()\n",
    "  # remove emoji & punctuation & numbers\n",
    "  text = \"\".join([i for i in text if (ord(i) in range(97,123)) | (i == \" \")])\n",
    "  # remove multiple spaces\n",
    "  text = re.sub(space_regex, \" \", text)\n",
    "\n",
    "  # stopword removal\n",
    "  text = [i for i in text.split() if i not in sw]\n",
    "  # lemmatizing\n",
    "  lemma = WordNetLemmatizer()\n",
    "  text = \" \".join([lemma.lemmatize(i) for i in text])\n",
    "\n",
    "  return text"
   ]
  },
  {
   "cell_type": "code",
   "execution_count": 72,
   "id": "846a0136",
   "metadata": {},
   "outputs": [],
   "source": [
    "test = \"I went here alone. They don't having table for one person. Overall I think any of the other restaurants in the same block would be better choice. I hered many times, the name of chhabra's from Jaipur guys. Terrible.\"\n",
    "clean_text = text_cleaner(test)"
   ]
  },
  {
   "cell_type": "code",
   "execution_count": 73,
   "id": "6d42ae50",
   "metadata": {},
   "outputs": [
    {
     "data": {
      "text/plain": [
       "'went alone dont table one person overall think restaurant block would better choice hered many time name chhabras jaipur guy terrible'"
      ]
     },
     "execution_count": 73,
     "metadata": {},
     "output_type": "execute_result"
    }
   ],
   "source": [
    "clean_text"
   ]
  },
  {
   "cell_type": "code",
   "execution_count": 74,
   "id": "806f8473",
   "metadata": {},
   "outputs": [
    {
     "data": {
      "text/plain": [
       "<tf.Tensor: shape=(1, 1), dtype=float32, numpy=array([[0.89597994]], dtype=float32)>"
      ]
     },
     "execution_count": 74,
     "metadata": {},
     "output_type": "execute_result"
    }
   ],
   "source": [
    "model_ebd(tf.constant([clean_text]))"
   ]
  },
  {
   "cell_type": "code",
   "execution_count": 75,
   "id": "a0c04952",
   "metadata": {},
   "outputs": [
    {
     "name": "stdout",
     "output_type": "stream",
     "text": [
      "74/74 [==============================] - 0s 2ms/step\n"
     ]
    }
   ],
   "source": [
    "y_pred = model_ebd.predict(X_valid)"
   ]
  },
  {
   "cell_type": "code",
   "execution_count": 76,
   "id": "735e8cac",
   "metadata": {},
   "outputs": [
    {
     "data": {
      "text/plain": [
       "<keras.src.layers.core.embedding.Embedding at 0x21487c32e60>"
      ]
     },
     "execution_count": 76,
     "metadata": {},
     "output_type": "execute_result"
    }
   ],
   "source": [
    "from tensorflow.keras import layers\n",
    "max_vocab_length = len(text_vectorizer.get_vocabulary())\n",
    "max_length = 14\n",
    "embedding = layers.Embedding(input_dim= max_vocab_length, # set input shape\n",
    "                             output_dim=128, # set size of embedding vector\n",
    "                             embeddings_initializer=\"uniform\", # default, intialize uniform\n",
    "                             input_length=max_length, # how long is each input\n",
    "                             name=\"embedding_1\")\n",
    "\n",
    "embedding"
   ]
  },
  {
   "cell_type": "code",
   "execution_count": 77,
   "id": "6a21d465",
   "metadata": {},
   "outputs": [],
   "source": [
    "from tensorflow.keras import layers\n",
    "\n",
    "input = layers.Input(shape = (1,), dtype = \"string\")\n",
    "tv = text_vectorizer(input)\n",
    "ebd = embedding(tv)\n",
    "ga = layers.GlobalAveragePooling1D()(ebd)\n",
    "# d1 = layers.Dense(64, activation = \"relu\")(ga)\n",
    "output = layers.Dense(1, activation = \"sigmoid\")(ga)"
   ]
  },
  {
   "cell_type": "code",
   "execution_count": 78,
   "id": "ccc71487",
   "metadata": {},
   "outputs": [
    {
     "name": "stdout",
     "output_type": "stream",
     "text": [
      "Model: \"model_3\"\n",
      "_________________________________________________________________\n",
      " Layer (type)                Output Shape              Param #   \n",
      "=================================================================\n",
      " input_4 (InputLayer)        [(None, 1)]               0         \n",
      "                                                                 \n",
      " text_vectorization_2 (Text  (None, 17)                0         \n",
      " Vectorization)                                                  \n",
      "                                                                 \n",
      " embedding_1 (Embedding)     (None, 17, 128)           1373184   \n",
      "                                                                 \n",
      " global_average_pooling1d_3  (None, 128)               0         \n",
      "  (GlobalAveragePooling1D)                                       \n",
      "                                                                 \n",
      " dense_3 (Dense)             (None, 1)                 129       \n",
      "                                                                 \n",
      "=================================================================\n",
      "Total params: 1373313 (5.24 MB)\n",
      "Trainable params: 1373313 (5.24 MB)\n",
      "Non-trainable params: 0 (0.00 Byte)\n",
      "_________________________________________________________________\n"
     ]
    }
   ],
   "source": [
    "model = tf.keras.Model(inputs = input, outputs = output)\n",
    "model.summary()"
   ]
  },
  {
   "cell_type": "code",
   "execution_count": 79,
   "id": "0465f33a",
   "metadata": {},
   "outputs": [
    {
     "name": "stdout",
     "output_type": "stream",
     "text": [
      "Epoch 1/5\n",
      "220/220 [==============================] - 7s 29ms/step - loss: 0.5227 - accuracy: 0.8046 - val_loss: 0.3571 - val_accuracy: 0.8974\n",
      "Epoch 2/5\n",
      "220/220 [==============================] - 5s 24ms/step - loss: 0.2750 - accuracy: 0.9241 - val_loss: 0.2492 - val_accuracy: 0.9124\n",
      "Epoch 3/5\n",
      "220/220 [==============================] - 5s 24ms/step - loss: 0.1974 - accuracy: 0.9409 - val_loss: 0.2215 - val_accuracy: 0.9205\n",
      "Epoch 4/5\n",
      "220/220 [==============================] - 5s 24ms/step - loss: 0.1603 - accuracy: 0.9527 - val_loss: 0.2158 - val_accuracy: 0.9256\n",
      "Epoch 5/5\n",
      "220/220 [==============================] - 6s 26ms/step - loss: 0.1362 - accuracy: 0.9602 - val_loss: 0.2117 - val_accuracy: 0.9209\n"
     ]
    },
    {
     "data": {
      "text/plain": [
       "<keras.src.callbacks.History at 0x214885bbdc0>"
      ]
     },
     "execution_count": 79,
     "metadata": {},
     "output_type": "execute_result"
    }
   ],
   "source": [
    "model.compile(\n",
    "    loss = \"binary_crossentropy\",\n",
    "    optimizer = \"adam\",\n",
    "    metrics = [\"accuracy\"]\n",
    ")\n",
    "\n",
    "# train_sentences, val_sentences, train_labels, val_labels\n",
    "\n",
    "model.fit(X_train, y_train, epochs = 5, validation_data = (X_valid, y_valid))"
   ]
  },
  {
   "cell_type": "code",
   "execution_count": 80,
   "id": "0479e6f4",
   "metadata": {},
   "outputs": [
    {
     "name": "stdout",
     "output_type": "stream",
     "text": [
      "74/74 [==============================] - 0s 2ms/step\n"
     ]
    }
   ],
   "source": [
    "y_pred = model.predict(X_valid)"
   ]
  },
  {
   "cell_type": "code",
   "execution_count": 81,
   "id": "2de50ba7",
   "metadata": {},
   "outputs": [],
   "source": [
    "# Function to evaluate: accuracy, precision, recall, f1-score\n",
    "from sklearn.metrics import accuracy_score, precision_recall_fscore_support\n",
    "\n",
    "def calculate_results(y_true, y_pred):\n",
    "  \"\"\"\n",
    "  Calculates model accuracy, precision, recall and f1 score of a binary classification model.\n",
    "\n",
    "  Args:\n",
    "  -----\n",
    "  y_true = true labels in the form of a 1D array\n",
    "  y_pred = predicted labels in the form of a 1D array\n",
    "\n",
    "  Returns a dictionary of accuracy, precision, recall, f1-score.\n",
    "  \"\"\"\n",
    "  # Calculate model accuracy\n",
    "  model_accuracy = accuracy_score(y_true, y_pred) * 100\n",
    "  # Calculate model precision, recall and f1 score for class 1\n",
    "  model_precision, model_recall, model_f1, _ = precision_recall_fscore_support(y_true, y_pred)\n",
    "  model_results = {\"Accuracy\": [np.round(model_accuracy,2)],\n",
    "                  \"Precision\": [np.round(model_precision[1]* 100,2)],\n",
    "                  \"Recall\": [np.round(model_recall[1]* 100,2)],\n",
    "                  \"F1_score\": [np.round(model_f1[1]* 100,2)]}\n",
    "  return model_results"
   ]
  },
  {
   "cell_type": "code",
   "execution_count": 82,
   "id": "e62e35eb",
   "metadata": {},
   "outputs": [
    {
     "data": {
      "text/plain": [
       "{'Accuracy': [92.65],\n",
       " 'Precision': [91.47],\n",
       " 'Recall': [89.89],\n",
       " 'F1_score': [90.67]}"
      ]
     },
     "execution_count": 82,
     "metadata": {},
     "output_type": "execute_result"
    }
   ],
   "source": [
    "# Get baseline results\n",
    "model_results = calculate_results(y_true=y_valid,\n",
    "                                     y_pred=tf.round(y_pred_ebd))\n",
    "model_results"
   ]
  },
  {
   "cell_type": "code",
   "execution_count": 83,
   "id": "7622d306",
   "metadata": {},
   "outputs": [],
   "source": [
    "result_df = pd.DataFrame({\n",
    "        \"Description\": [],\n",
    "        \"Precision\": [],\n",
    "        \"Recall\": [],\n",
    "        \"F1_score\":[],\n",
    "        \"Accuracy\":[],\n",
    "        \"Pred_time_in_seconds\" : []\n",
    "    })"
   ]
  },
  {
   "cell_type": "code",
   "execution_count": 84,
   "id": "a15366cc",
   "metadata": {},
   "outputs": [],
   "source": [
    "import time\n",
    "def result_log(model,text,X_test, y_true,result_df):\n",
    "  start_time = time.time()\n",
    "  y_pred = model.predict(X_test)\n",
    "  end_time = time.time()\n",
    "  pred_time = end_time - start_time\n",
    "  result_dict = calculate_results(y_true=y_valid,y_pred=tf.round(y_pred))\n",
    "  result_dict[\"Description\"] = text\n",
    "  result_dict[\"Pred_time_in_seconds\"] = [pred_time]\n",
    "  temp_df = pd.DataFrame(data = result_dict)\n",
    "  result_df = pd.concat([result_df, temp_df]).reset_index(drop = True)\n",
    "\n",
    "  return result_df"
   ]
  },
  {
   "cell_type": "code",
   "execution_count": 87,
   "id": "380f1405",
   "metadata": {},
   "outputs": [
    {
     "ename": "KeyError",
     "evalue": "0",
     "output_type": "error",
     "traceback": [
      "\u001b[1;31m---------------------------------------------------------------------------\u001b[0m",
      "\u001b[1;31mKeyError\u001b[0m                                  Traceback (most recent call last)",
      "Cell \u001b[1;32mIn[87], line 2\u001b[0m\n\u001b[0;32m      1\u001b[0m \u001b[38;5;28;01mimport\u001b[39;00m \u001b[38;5;21;01mjoblib\u001b[39;00m\n\u001b[1;32m----> 2\u001b[0m model_nb \u001b[38;5;241m=\u001b[39m \u001b[43mjoblib\u001b[49m\u001b[38;5;241;43m.\u001b[39;49m\u001b[43mload\u001b[49m\u001b[43m(\u001b[49m\u001b[38;5;124;43mr\u001b[39;49m\u001b[38;5;124;43m\"\u001b[39;49m\u001b[38;5;124;43mC:\u001b[39;49m\u001b[38;5;124;43m\\\u001b[39;49m\u001b[38;5;124;43mUsers\u001b[39;49m\u001b[38;5;124;43m\\\u001b[39;49m\u001b[38;5;124;43mpalash\u001b[39;49m\u001b[38;5;124;43m\\\u001b[39;49m\u001b[38;5;124;43mDownloads\u001b[39;49m\u001b[38;5;124;43m\\\u001b[39;49m\u001b[38;5;124;43mfood_review_nb.joblib\u001b[39;49m\u001b[38;5;124;43m\"\u001b[39;49m\u001b[43m)\u001b[49m\n\u001b[0;32m      3\u001b[0m model_nb\n",
      "File \u001b[1;32m~\\anaconda3\\lib\\site-packages\\joblib\\numpy_pickle.py:587\u001b[0m, in \u001b[0;36mload\u001b[1;34m(filename, mmap_mode)\u001b[0m\n\u001b[0;32m    581\u001b[0m             \u001b[38;5;28;01mif\u001b[39;00m \u001b[38;5;28misinstance\u001b[39m(fobj, \u001b[38;5;28mstr\u001b[39m):\n\u001b[0;32m    582\u001b[0m                 \u001b[38;5;66;03m# if the returned file object is a string, this means we\u001b[39;00m\n\u001b[0;32m    583\u001b[0m                 \u001b[38;5;66;03m# try to load a pickle file generated with an version of\u001b[39;00m\n\u001b[0;32m    584\u001b[0m                 \u001b[38;5;66;03m# Joblib so we load it with joblib compatibility function.\u001b[39;00m\n\u001b[0;32m    585\u001b[0m                 \u001b[38;5;28;01mreturn\u001b[39;00m load_compatibility(fobj)\n\u001b[1;32m--> 587\u001b[0m             obj \u001b[38;5;241m=\u001b[39m \u001b[43m_unpickle\u001b[49m\u001b[43m(\u001b[49m\u001b[43mfobj\u001b[49m\u001b[43m,\u001b[49m\u001b[43m \u001b[49m\u001b[43mfilename\u001b[49m\u001b[43m,\u001b[49m\u001b[43m \u001b[49m\u001b[43mmmap_mode\u001b[49m\u001b[43m)\u001b[49m\n\u001b[0;32m    588\u001b[0m \u001b[38;5;28;01mreturn\u001b[39;00m obj\n",
      "File \u001b[1;32m~\\anaconda3\\lib\\site-packages\\joblib\\numpy_pickle.py:506\u001b[0m, in \u001b[0;36m_unpickle\u001b[1;34m(fobj, filename, mmap_mode)\u001b[0m\n\u001b[0;32m    504\u001b[0m obj \u001b[38;5;241m=\u001b[39m \u001b[38;5;28;01mNone\u001b[39;00m\n\u001b[0;32m    505\u001b[0m \u001b[38;5;28;01mtry\u001b[39;00m:\n\u001b[1;32m--> 506\u001b[0m     obj \u001b[38;5;241m=\u001b[39m \u001b[43munpickler\u001b[49m\u001b[38;5;241;43m.\u001b[39;49m\u001b[43mload\u001b[49m\u001b[43m(\u001b[49m\u001b[43m)\u001b[49m\n\u001b[0;32m    507\u001b[0m     \u001b[38;5;28;01mif\u001b[39;00m unpickler\u001b[38;5;241m.\u001b[39mcompat_mode:\n\u001b[0;32m    508\u001b[0m         warnings\u001b[38;5;241m.\u001b[39mwarn(\u001b[38;5;124m\"\u001b[39m\u001b[38;5;124mThe file \u001b[39m\u001b[38;5;124m'\u001b[39m\u001b[38;5;132;01m%s\u001b[39;00m\u001b[38;5;124m'\u001b[39m\u001b[38;5;124m has been generated with a \u001b[39m\u001b[38;5;124m\"\u001b[39m\n\u001b[0;32m    509\u001b[0m                       \u001b[38;5;124m\"\u001b[39m\u001b[38;5;124mjoblib version less than 0.10. \u001b[39m\u001b[38;5;124m\"\u001b[39m\n\u001b[0;32m    510\u001b[0m                       \u001b[38;5;124m\"\u001b[39m\u001b[38;5;124mPlease regenerate this pickle file.\u001b[39m\u001b[38;5;124m\"\u001b[39m\n\u001b[0;32m    511\u001b[0m                       \u001b[38;5;241m%\u001b[39m filename,\n\u001b[0;32m    512\u001b[0m                       \u001b[38;5;167;01mDeprecationWarning\u001b[39;00m, stacklevel\u001b[38;5;241m=\u001b[39m\u001b[38;5;241m3\u001b[39m)\n",
      "File \u001b[1;32m~\\anaconda3\\lib\\pickle.py:1213\u001b[0m, in \u001b[0;36m_Unpickler.load\u001b[1;34m(self)\u001b[0m\n\u001b[0;32m   1211\u001b[0m             \u001b[38;5;28;01mraise\u001b[39;00m \u001b[38;5;167;01mEOFError\u001b[39;00m\n\u001b[0;32m   1212\u001b[0m         \u001b[38;5;28;01massert\u001b[39;00m \u001b[38;5;28misinstance\u001b[39m(key, bytes_types)\n\u001b[1;32m-> 1213\u001b[0m         \u001b[43mdispatch\u001b[49m\u001b[43m[\u001b[49m\u001b[43mkey\u001b[49m\u001b[43m[\u001b[49m\u001b[38;5;241;43m0\u001b[39;49m\u001b[43m]\u001b[49m\u001b[43m]\u001b[49m(\u001b[38;5;28mself\u001b[39m)\n\u001b[0;32m   1214\u001b[0m \u001b[38;5;28;01mexcept\u001b[39;00m _Stop \u001b[38;5;28;01mas\u001b[39;00m stopinst:\n\u001b[0;32m   1215\u001b[0m     \u001b[38;5;28;01mreturn\u001b[39;00m stopinst\u001b[38;5;241m.\u001b[39mvalue\n",
      "\u001b[1;31mKeyError\u001b[0m: 0"
     ]
    }
   ],
   "source": [
    "import joblib\n",
    "model_nb = joblib.load(r\"C:\\Users\\palash\\Downloads\\food_review_nb.joblib\")\n",
    "model_nb"
   ]
  },
  {
   "cell_type": "code",
   "execution_count": 88,
   "id": "c7af7712",
   "metadata": {},
   "outputs": [],
   "source": [
    "import joblib"
   ]
  },
  {
   "cell_type": "code",
   "execution_count": 91,
   "id": "3a085878",
   "metadata": {},
   "outputs": [
    {
     "ename": "KeyError",
     "evalue": "0",
     "output_type": "error",
     "traceback": [
      "\u001b[1;31m---------------------------------------------------------------------------\u001b[0m",
      "\u001b[1;31mKeyError\u001b[0m                                  Traceback (most recent call last)",
      "Cell \u001b[1;32mIn[91], line 1\u001b[0m\n\u001b[1;32m----> 1\u001b[0m model_nb \u001b[38;5;241m=\u001b[39m \u001b[43mjoblib\u001b[49m\u001b[38;5;241;43m.\u001b[39;49m\u001b[43mload\u001b[49m\u001b[43m(\u001b[49m\u001b[38;5;124;43mr\u001b[39;49m\u001b[38;5;124;43m\"\u001b[39;49m\u001b[38;5;124;43mC:\u001b[39;49m\u001b[38;5;124;43m\\\u001b[39;49m\u001b[38;5;124;43mUsers\u001b[39;49m\u001b[38;5;124;43m\\\u001b[39;49m\u001b[38;5;124;43mpalash\u001b[39;49m\u001b[38;5;124;43m\\\u001b[39;49m\u001b[38;5;124;43mDownloads\u001b[39;49m\u001b[38;5;124;43m\\\u001b[39;49m\u001b[38;5;124;43mfood_review_nb.joblib\u001b[39;49m\u001b[38;5;124;43m\"\u001b[39;49m\u001b[43m)\u001b[49m\n\u001b[0;32m      2\u001b[0m model_nb\n",
      "File \u001b[1;32m~\\anaconda3\\lib\\site-packages\\joblib\\numpy_pickle.py:587\u001b[0m, in \u001b[0;36mload\u001b[1;34m(filename, mmap_mode)\u001b[0m\n\u001b[0;32m    581\u001b[0m             \u001b[38;5;28;01mif\u001b[39;00m \u001b[38;5;28misinstance\u001b[39m(fobj, \u001b[38;5;28mstr\u001b[39m):\n\u001b[0;32m    582\u001b[0m                 \u001b[38;5;66;03m# if the returned file object is a string, this means we\u001b[39;00m\n\u001b[0;32m    583\u001b[0m                 \u001b[38;5;66;03m# try to load a pickle file generated with an version of\u001b[39;00m\n\u001b[0;32m    584\u001b[0m                 \u001b[38;5;66;03m# Joblib so we load it with joblib compatibility function.\u001b[39;00m\n\u001b[0;32m    585\u001b[0m                 \u001b[38;5;28;01mreturn\u001b[39;00m load_compatibility(fobj)\n\u001b[1;32m--> 587\u001b[0m             obj \u001b[38;5;241m=\u001b[39m \u001b[43m_unpickle\u001b[49m\u001b[43m(\u001b[49m\u001b[43mfobj\u001b[49m\u001b[43m,\u001b[49m\u001b[43m \u001b[49m\u001b[43mfilename\u001b[49m\u001b[43m,\u001b[49m\u001b[43m \u001b[49m\u001b[43mmmap_mode\u001b[49m\u001b[43m)\u001b[49m\n\u001b[0;32m    588\u001b[0m \u001b[38;5;28;01mreturn\u001b[39;00m obj\n",
      "File \u001b[1;32m~\\anaconda3\\lib\\site-packages\\joblib\\numpy_pickle.py:506\u001b[0m, in \u001b[0;36m_unpickle\u001b[1;34m(fobj, filename, mmap_mode)\u001b[0m\n\u001b[0;32m    504\u001b[0m obj \u001b[38;5;241m=\u001b[39m \u001b[38;5;28;01mNone\u001b[39;00m\n\u001b[0;32m    505\u001b[0m \u001b[38;5;28;01mtry\u001b[39;00m:\n\u001b[1;32m--> 506\u001b[0m     obj \u001b[38;5;241m=\u001b[39m \u001b[43munpickler\u001b[49m\u001b[38;5;241;43m.\u001b[39;49m\u001b[43mload\u001b[49m\u001b[43m(\u001b[49m\u001b[43m)\u001b[49m\n\u001b[0;32m    507\u001b[0m     \u001b[38;5;28;01mif\u001b[39;00m unpickler\u001b[38;5;241m.\u001b[39mcompat_mode:\n\u001b[0;32m    508\u001b[0m         warnings\u001b[38;5;241m.\u001b[39mwarn(\u001b[38;5;124m\"\u001b[39m\u001b[38;5;124mThe file \u001b[39m\u001b[38;5;124m'\u001b[39m\u001b[38;5;132;01m%s\u001b[39;00m\u001b[38;5;124m'\u001b[39m\u001b[38;5;124m has been generated with a \u001b[39m\u001b[38;5;124m\"\u001b[39m\n\u001b[0;32m    509\u001b[0m                       \u001b[38;5;124m\"\u001b[39m\u001b[38;5;124mjoblib version less than 0.10. \u001b[39m\u001b[38;5;124m\"\u001b[39m\n\u001b[0;32m    510\u001b[0m                       \u001b[38;5;124m\"\u001b[39m\u001b[38;5;124mPlease regenerate this pickle file.\u001b[39m\u001b[38;5;124m\"\u001b[39m\n\u001b[0;32m    511\u001b[0m                       \u001b[38;5;241m%\u001b[39m filename,\n\u001b[0;32m    512\u001b[0m                       \u001b[38;5;167;01mDeprecationWarning\u001b[39;00m, stacklevel\u001b[38;5;241m=\u001b[39m\u001b[38;5;241m3\u001b[39m)\n",
      "File \u001b[1;32m~\\anaconda3\\lib\\pickle.py:1213\u001b[0m, in \u001b[0;36m_Unpickler.load\u001b[1;34m(self)\u001b[0m\n\u001b[0;32m   1211\u001b[0m             \u001b[38;5;28;01mraise\u001b[39;00m \u001b[38;5;167;01mEOFError\u001b[39;00m\n\u001b[0;32m   1212\u001b[0m         \u001b[38;5;28;01massert\u001b[39;00m \u001b[38;5;28misinstance\u001b[39m(key, bytes_types)\n\u001b[1;32m-> 1213\u001b[0m         \u001b[43mdispatch\u001b[49m\u001b[43m[\u001b[49m\u001b[43mkey\u001b[49m\u001b[43m[\u001b[49m\u001b[38;5;241;43m0\u001b[39;49m\u001b[43m]\u001b[49m\u001b[43m]\u001b[49m(\u001b[38;5;28mself\u001b[39m)\n\u001b[0;32m   1214\u001b[0m \u001b[38;5;28;01mexcept\u001b[39;00m _Stop \u001b[38;5;28;01mas\u001b[39;00m stopinst:\n\u001b[0;32m   1215\u001b[0m     \u001b[38;5;28;01mreturn\u001b[39;00m stopinst\u001b[38;5;241m.\u001b[39mvalue\n",
      "\u001b[1;31mKeyError\u001b[0m: 0"
     ]
    }
   ],
   "source": [
    "model_nb = joblib.load(r\"C:\\Users\\palash\\Downloads\\food_review_nb.joblib\")\n",
    "model_nb"
   ]
  },
  {
   "cell_type": "code",
   "execution_count": 92,
   "id": "2205335b",
   "metadata": {},
   "outputs": [
    {
     "name": "stdout",
     "output_type": "stream",
     "text": [
      "74/74 [==============================] - 0s 2ms/step\n"
     ]
    },
    {
     "data": {
      "text/html": [
       "<div>\n",
       "<style scoped>\n",
       "    .dataframe tbody tr th:only-of-type {\n",
       "        vertical-align: middle;\n",
       "    }\n",
       "\n",
       "    .dataframe tbody tr th {\n",
       "        vertical-align: top;\n",
       "    }\n",
       "\n",
       "    .dataframe thead th {\n",
       "        text-align: right;\n",
       "    }\n",
       "</style>\n",
       "<table border=\"1\" class=\"dataframe\">\n",
       "  <thead>\n",
       "    <tr style=\"text-align: right;\">\n",
       "      <th></th>\n",
       "      <th>Description</th>\n",
       "      <th>Precision</th>\n",
       "      <th>Recall</th>\n",
       "      <th>F1_score</th>\n",
       "      <th>Accuracy</th>\n",
       "      <th>Pred_time_in_seconds</th>\n",
       "    </tr>\n",
       "  </thead>\n",
       "  <tbody>\n",
       "    <tr>\n",
       "      <th>0</th>\n",
       "      <td>Embedding model</td>\n",
       "      <td>91.47</td>\n",
       "      <td>89.89</td>\n",
       "      <td>90.67</td>\n",
       "      <td>92.65</td>\n",
       "      <td>0.214193</td>\n",
       "    </tr>\n",
       "  </tbody>\n",
       "</table>\n",
       "</div>"
      ],
      "text/plain": [
       "       Description  Precision  Recall  F1_score  Accuracy  \\\n",
       "0  Embedding model      91.47   89.89     90.67     92.65   \n",
       "\n",
       "   Pred_time_in_seconds  \n",
       "0              0.214193  "
      ]
     },
     "execution_count": 92,
     "metadata": {},
     "output_type": "execute_result"
    }
   ],
   "source": [
    "result_df = result_log(model_ebd,\"Embedding model\",X_valid, y_valid, result_df)\n",
    "result_df"
   ]
  },
  {
   "cell_type": "code",
   "execution_count": 93,
   "id": "34bbf885",
   "metadata": {},
   "outputs": [
    {
     "data": {
      "text/plain": [
       "array([[ 0.01325517, -0.02686268, -0.02637479, ...,  0.00028612,\n",
       "         0.00683883, -0.05066485],\n",
       "       [-0.04962243,  0.03594908, -0.02034652, ...,  0.01815004,\n",
       "         0.03257399, -0.04494863],\n",
       "       [-0.04467124,  0.07065123,  0.03170334, ...,  0.00147509,\n",
       "         0.01003034, -0.07288383],\n",
       "       ...,\n",
       "       [ 0.0547647 , -0.04700103, -0.02073087, ..., -0.00491996,\n",
       "         0.07418086,  0.07791632],\n",
       "       [-0.08009841,  0.07165869,  0.05388992, ...,  0.07147376,\n",
       "        -0.07955992, -0.03975553],\n",
       "       [-0.02444868,  0.10294838,  0.09063026, ...,  0.09739957,\n",
       "        -0.07856586, -0.0991958 ]], dtype=float32)"
      ]
     },
     "execution_count": 93,
     "metadata": {},
     "output_type": "execute_result"
    }
   ],
   "source": [
    "model_ebd.get_layer(\"embedding_2\").get_weights()[0]\n"
   ]
  },
  {
   "cell_type": "code",
   "execution_count": 94,
   "id": "a4593051",
   "metadata": {},
   "outputs": [
    {
     "name": "stdout",
     "output_type": "stream",
     "text": [
      "(10728, 128)\n"
     ]
    }
   ],
   "source": [
    "embed_weights = model_ebd.get_layer(\"embedding_2\").get_weights()[0]\n",
    "print(embed_weights.shape)"
   ]
  },
  {
   "cell_type": "code",
   "execution_count": 95,
   "id": "f59903d4",
   "metadata": {},
   "outputs": [],
   "source": [
    "# Code below is adapted from: https://www.tensorflow.org/tutorials/text/word_embeddings#retrieve_the_trained_word_embeddings_and_save_them_to_disk\n",
    "import io\n",
    "\n",
    "# Create output writers\n",
    "out_v = io.open(\"embedding_vectors.tsv\", \"w\", encoding=\"utf-8\")\n",
    "out_m = io.open(\"embedding_metadata.tsv\", \"w\", encoding=\"utf-8\")\n",
    "words_in_vocab = text_vectorizer.get_vocabulary()\n",
    "# Write embedding vectors and words to file\n",
    "for num, word in enumerate(words_in_vocab):\n",
    "  if num == 0:\n",
    "     continue # skip padding token\n",
    "  vec = embed_weights[num]\n",
    "  out_m.write(word + \"\\n\") # write words to file\n",
    "  out_v.write(\"\\t\".join([str(x) for x in vec]) + \"\\n\") # write corresponding word vector to file\n",
    "out_v.close()\n",
    "out_m.close()\n",
    "\n",
    "# Download files locally to upload to Embedding Projector\n",
    "try:\n",
    "  from google.colab import files\n",
    "except ImportError:\n",
    "  pass\n",
    "else:\n",
    "  files.download(\"embedding_vectors.tsv\")\n",
    "  files.download(\"embedding_metadata.tsv\")"
   ]
  },
  {
   "cell_type": "code",
   "execution_count": 96,
   "id": "d549ee2b",
   "metadata": {},
   "outputs": [
    {
     "name": "stdout",
     "output_type": "stream",
     "text": [
      "Model: \"model_1_RNN\"\n",
      "_________________________________________________________________\n",
      " Layer (type)                Output Shape              Param #   \n",
      "=================================================================\n",
      " input_5 (InputLayer)        [(None, 1)]               0         \n",
      "                                                                 \n",
      " text_vectorization_2 (Text  (None, 17)                0         \n",
      " Vectorization)                                                  \n",
      "                                                                 \n",
      " embedding_2 (Embedding)     (None, 17, 128)           1373184   \n",
      "                                                                 \n",
      " dropout (Dropout)           (None, 17, 128)           0         \n",
      "                                                                 \n",
      " simple_rnn (SimpleRNN)      (None, 17, 4)             532       \n",
      "                                                                 \n",
      " simple_rnn_1 (SimpleRNN)    (None, 4)                 36        \n",
      "                                                                 \n",
      " dropout_1 (Dropout)         (None, 4)                 0         \n",
      "                                                                 \n",
      " dense_4 (Dense)             (None, 1)                 5         \n",
      "                                                                 \n",
      "=================================================================\n",
      "Total params: 1373757 (5.24 MB)\n",
      "Trainable params: 1373757 (5.24 MB)\n",
      "Non-trainable params: 0 (0.00 Byte)\n",
      "_________________________________________________________________\n"
     ]
    }
   ],
   "source": [
    "tf.random.set_seed(42)\n",
    "from tensorflow.keras import layers\n",
    "max_vocab_length = len(text_vectorizer.get_vocabulary())\n",
    "max_length = 17\n",
    "\n",
    "model_1_embedding = layers.Embedding(input_dim=max_vocab_length,\n",
    "                                     output_dim=128,\n",
    "                                     embeddings_initializer=\"uniform\",\n",
    "                                     input_length=max_length,\n",
    "                                     name=\"embedding_2\")\n",
    "\n",
    "# Create rnn model\n",
    "inputs = layers.Input(shape=(1,), dtype=\"string\")\n",
    "x = text_vectorizer(inputs)\n",
    "x = model_1_embedding(x)\n",
    "# print(x.shape)\n",
    "x = layers.Dropout(0.2)(x)\n",
    "x = layers.SimpleRNN(4, return_sequences=True, dropout = 0.2, kernel_regularizer='l1')(x) # return vector for whole sequence\n",
    "# x = layers.SimpleRNN(8, return_sequences=True, dropout = 0.4, kernel_regularizer='l1')(x)\n",
    "x = layers.SimpleRNN(4, dropout = 0.2, kernel_regularizer='l1')(x)\n",
    "# print(x.shape)\n",
    "x = layers.Dropout(0.2)(x)\n",
    "# x = layers.Dense(64, activation=\"relu\")(x) # optional dense layer on top of output of LSTM cell\n",
    "outputs = layers.Dense(1, activation=\"sigmoid\")(x)\n",
    "model_1 = tf.keras.Model(inputs, outputs, name=\"model_1_RNN\")\n",
    "model_1.summary()"
   ]
  },
  {
   "cell_type": "code",
   "execution_count": 97,
   "id": "3200ea82",
   "metadata": {},
   "outputs": [
    {
     "name": "stdout",
     "output_type": "stream",
     "text": [
      "Epoch 1/6\n",
      "220/220 [==============================] - 10s 33ms/step - loss: 1.1302 - accuracy: 0.5556 - val_loss: 0.9600 - val_accuracy: 0.6026\n",
      "Epoch 2/6\n",
      "220/220 [==============================] - 7s 31ms/step - loss: 0.8381 - accuracy: 0.6358 - val_loss: 0.7457 - val_accuracy: 0.6739\n",
      "Epoch 3/6\n",
      "220/220 [==============================] - 7s 30ms/step - loss: 0.6617 - accuracy: 0.7318 - val_loss: 0.6627 - val_accuracy: 0.7197\n",
      "Epoch 4/6\n",
      "220/220 [==============================] - 7s 31ms/step - loss: 0.5665 - accuracy: 0.7958 - val_loss: 0.6482 - val_accuracy: 0.7248\n",
      "Epoch 5/6\n",
      "220/220 [==============================] - 7s 31ms/step - loss: 0.5035 - accuracy: 0.8319 - val_loss: 0.6535 - val_accuracy: 0.7363\n",
      "Epoch 6/6\n",
      "220/220 [==============================] - 7s 30ms/step - loss: 0.4574 - accuracy: 0.8515 - val_loss: 0.6647 - val_accuracy: 0.7333\n"
     ]
    }
   ],
   "source": [
    "tf.random.set_seed(42)\n",
    "# Compile model\n",
    "model_1.compile(loss=\"binary_crossentropy\",\n",
    "                optimizer=tf.keras.optimizers.Adam(learning_rate = 0.0005),\n",
    "                metrics=[\"accuracy\"])\n",
    "\n",
    "# Fit model\n",
    "model_1_history = model_1.fit(X_train,\n",
    "                              y_train,\n",
    "                              epochs=6,\n",
    "                              validation_data=(X_valid, y_valid)\n",
    "                              )"
   ]
  },
  {
   "cell_type": "code",
   "execution_count": 98,
   "id": "06ab91b9",
   "metadata": {},
   "outputs": [
    {
     "name": "stdout",
     "output_type": "stream",
     "text": [
      "74/74 [==============================] - 0s 3ms/step\n"
     ]
    },
    {
     "data": {
      "text/html": [
       "<div>\n",
       "<style scoped>\n",
       "    .dataframe tbody tr th:only-of-type {\n",
       "        vertical-align: middle;\n",
       "    }\n",
       "\n",
       "    .dataframe tbody tr th {\n",
       "        vertical-align: top;\n",
       "    }\n",
       "\n",
       "    .dataframe thead th {\n",
       "        text-align: right;\n",
       "    }\n",
       "</style>\n",
       "<table border=\"1\" class=\"dataframe\">\n",
       "  <thead>\n",
       "    <tr style=\"text-align: right;\">\n",
       "      <th></th>\n",
       "      <th>Description</th>\n",
       "      <th>Precision</th>\n",
       "      <th>Recall</th>\n",
       "      <th>F1_score</th>\n",
       "      <th>Accuracy</th>\n",
       "      <th>Pred_time_in_seconds</th>\n",
       "    </tr>\n",
       "  </thead>\n",
       "  <tbody>\n",
       "    <tr>\n",
       "      <th>0</th>\n",
       "      <td>Embedding model</td>\n",
       "      <td>91.47</td>\n",
       "      <td>89.89</td>\n",
       "      <td>90.67</td>\n",
       "      <td>92.65</td>\n",
       "      <td>0.214193</td>\n",
       "    </tr>\n",
       "    <tr>\n",
       "      <th>1</th>\n",
       "      <td>rnn model</td>\n",
       "      <td>71.13</td>\n",
       "      <td>55.38</td>\n",
       "      <td>62.27</td>\n",
       "      <td>73.33</td>\n",
       "      <td>0.528572</td>\n",
       "    </tr>\n",
       "  </tbody>\n",
       "</table>\n",
       "</div>"
      ],
      "text/plain": [
       "       Description  Precision  Recall  F1_score  Accuracy  \\\n",
       "0  Embedding model      91.47   89.89     90.67     92.65   \n",
       "1        rnn model      71.13   55.38     62.27     73.33   \n",
       "\n",
       "   Pred_time_in_seconds  \n",
       "0              0.214193  \n",
       "1              0.528572  "
      ]
     },
     "execution_count": 98,
     "metadata": {},
     "output_type": "execute_result"
    }
   ],
   "source": [
    "result_df = result_log(model_1,\"rnn model\",X_valid, y_valid, result_df)\n",
    "result_df"
   ]
  },
  {
   "cell_type": "code",
   "execution_count": 99,
   "id": "a424cf99",
   "metadata": {},
   "outputs": [
    {
     "name": "stdout",
     "output_type": "stream",
     "text": [
      "(None, 17, 128)\n",
      "(None, 8)\n",
      "Model: \"model_2_LSTM\"\n",
      "_________________________________________________________________\n",
      " Layer (type)                Output Shape              Param #   \n",
      "=================================================================\n",
      " input_6 (InputLayer)        [(None, 1)]               0         \n",
      "                                                                 \n",
      " text_vectorization_2 (Text  (None, 17)                0         \n",
      " Vectorization)                                                  \n",
      "                                                                 \n",
      " embedding_2 (Embedding)     (None, 17, 128)           1373184   \n",
      "                                                                 \n",
      " lstm (LSTM)                 (None, 17, 8)             4384      \n",
      "                                                                 \n",
      " lstm_1 (LSTM)               (None, 8)                 544       \n",
      "                                                                 \n",
      " dense_5 (Dense)             (None, 1)                 9         \n",
      "                                                                 \n",
      "=================================================================\n",
      "Total params: 1378121 (5.26 MB)\n",
      "Trainable params: 1378121 (5.26 MB)\n",
      "Non-trainable params: 0 (0.00 Byte)\n",
      "_________________________________________________________________\n"
     ]
    }
   ],
   "source": [
    "tf.random.set_seed(42)\n",
    "from tensorflow.keras import layers\n",
    "model_2_embedding = layers.Embedding(input_dim=max_vocab_length,\n",
    "                                     output_dim=128,\n",
    "                                     embeddings_initializer=\"uniform\",\n",
    "                                     input_length=max_length,\n",
    "                                     name=\"embedding_2\")\n",
    "\n",
    "\n",
    "# Create LSTM model\n",
    "inputs = layers.Input(shape=(1,), dtype=\"string\")\n",
    "x = text_vectorizer(inputs)\n",
    "x = model_2_embedding(x)\n",
    "print(x.shape)\n",
    "x = layers.LSTM(8, return_sequences=True, dropout = 0.4, kernel_regularizer='l1')(x) # return vector for whole sequence\n",
    "x = layers.LSTM(8)(x)\n",
    "print(x.shape)\n",
    "# x = layers.Dense(64, activation=\"relu\")(x) # optional dense layer on top of output of LSTM cell\n",
    "outputs = layers.Dense(1, activation=\"sigmoid\")(x)\n",
    "model_2 = tf.keras.Model(inputs, outputs, name=\"model_2_LSTM\")\n",
    "model_2.summary()"
   ]
  },
  {
   "cell_type": "code",
   "execution_count": 100,
   "id": "7237fa06",
   "metadata": {},
   "outputs": [
    {
     "name": "stdout",
     "output_type": "stream",
     "text": [
      "Epoch 1/2\n",
      "220/220 [==============================] - 11s 35ms/step - loss: 1.6265 - accuracy: 0.8219 - val_loss: 0.3311 - val_accuracy: 0.9064\n",
      "Epoch 2/2\n",
      "220/220 [==============================] - 7s 31ms/step - loss: 0.2677 - accuracy: 0.9272 - val_loss: 0.2771 - val_accuracy: 0.9060\n"
     ]
    }
   ],
   "source": [
    "# Compile model\n",
    "model_2.compile(loss=\"binary_crossentropy\",\n",
    "                optimizer=tf.keras.optimizers.Adam(),\n",
    "                metrics=[\"accuracy\"])\n",
    "\n",
    "# Fit model\n",
    "model_2_history = model_2.fit(X_train,\n",
    "                              y_train,\n",
    "                              epochs=2,\n",
    "                              validation_data=(X_valid, y_valid)\n",
    "                              )"
   ]
  },
  {
   "cell_type": "code",
   "execution_count": 101,
   "id": "e2157499",
   "metadata": {},
   "outputs": [
    {
     "name": "stdout",
     "output_type": "stream",
     "text": [
      "74/74 [==============================] - 1s 4ms/step\n"
     ]
    },
    {
     "data": {
      "text/html": [
       "<div>\n",
       "<style scoped>\n",
       "    .dataframe tbody tr th:only-of-type {\n",
       "        vertical-align: middle;\n",
       "    }\n",
       "\n",
       "    .dataframe tbody tr th {\n",
       "        vertical-align: top;\n",
       "    }\n",
       "\n",
       "    .dataframe thead th {\n",
       "        text-align: right;\n",
       "    }\n",
       "</style>\n",
       "<table border=\"1\" class=\"dataframe\">\n",
       "  <thead>\n",
       "    <tr style=\"text-align: right;\">\n",
       "      <th></th>\n",
       "      <th>Description</th>\n",
       "      <th>Precision</th>\n",
       "      <th>Recall</th>\n",
       "      <th>F1_score</th>\n",
       "      <th>Accuracy</th>\n",
       "      <th>Pred_time_in_seconds</th>\n",
       "    </tr>\n",
       "  </thead>\n",
       "  <tbody>\n",
       "    <tr>\n",
       "      <th>0</th>\n",
       "      <td>Embedding model</td>\n",
       "      <td>91.47</td>\n",
       "      <td>89.89</td>\n",
       "      <td>90.67</td>\n",
       "      <td>92.65</td>\n",
       "      <td>0.214193</td>\n",
       "    </tr>\n",
       "    <tr>\n",
       "      <th>1</th>\n",
       "      <td>rnn model</td>\n",
       "      <td>71.13</td>\n",
       "      <td>55.38</td>\n",
       "      <td>62.27</td>\n",
       "      <td>73.33</td>\n",
       "      <td>0.528572</td>\n",
       "    </tr>\n",
       "    <tr>\n",
       "      <th>2</th>\n",
       "      <td>lstm model</td>\n",
       "      <td>89.89</td>\n",
       "      <td>86.02</td>\n",
       "      <td>87.91</td>\n",
       "      <td>90.60</td>\n",
       "      <td>0.970244</td>\n",
       "    </tr>\n",
       "  </tbody>\n",
       "</table>\n",
       "</div>"
      ],
      "text/plain": [
       "       Description  Precision  Recall  F1_score  Accuracy  \\\n",
       "0  Embedding model      91.47   89.89     90.67     92.65   \n",
       "1        rnn model      71.13   55.38     62.27     73.33   \n",
       "2       lstm model      89.89   86.02     87.91     90.60   \n",
       "\n",
       "   Pred_time_in_seconds  \n",
       "0              0.214193  \n",
       "1              0.528572  \n",
       "2              0.970244  "
      ]
     },
     "execution_count": 101,
     "metadata": {},
     "output_type": "execute_result"
    }
   ],
   "source": [
    "result_df = result_log(model_2,\"lstm model\",X_valid, y_valid, result_df)\n",
    "result_df"
   ]
  },
  {
   "cell_type": "code",
   "execution_count": 105,
   "id": "1e87fb8a",
   "metadata": {},
   "outputs": [],
   "source": [
    "# Example of pretrained embedding with universal sentence encoder - https://tfhub.dev/google/universal-sentence-encoder/4\n",
    "import tensorflow_hub as hub"
   ]
  },
  {
   "cell_type": "code",
   "execution_count": 106,
   "id": "f0935132",
   "metadata": {},
   "outputs": [
    {
     "name": "stdout",
     "output_type": "stream",
     "text": [
      "WARNING:tensorflow:From C:\\Users\\palash\\anaconda3\\lib\\site-packages\\tensorflow_hub\\resolver.py:120: The name tf.gfile.MakeDirs is deprecated. Please use tf.io.gfile.makedirs instead.\n",
      "\n"
     ]
    },
    {
     "name": "stderr",
     "output_type": "stream",
     "text": [
      "WARNING:tensorflow:From C:\\Users\\palash\\anaconda3\\lib\\site-packages\\tensorflow_hub\\resolver.py:120: The name tf.gfile.MakeDirs is deprecated. Please use tf.io.gfile.makedirs instead.\n",
      "\n"
     ]
    },
    {
     "name": "stdout",
     "output_type": "stream",
     "text": [
      "WARNING:tensorflow:From C:\\Users\\palash\\anaconda3\\lib\\site-packages\\tensorflow_hub\\module_v2.py:126: The name tf.saved_model.load_v2 is deprecated. Please use tf.compat.v2.saved_model.load instead.\n",
      "\n"
     ]
    },
    {
     "name": "stderr",
     "output_type": "stream",
     "text": [
      "WARNING:tensorflow:From C:\\Users\\palash\\anaconda3\\lib\\site-packages\\tensorflow_hub\\module_v2.py:126: The name tf.saved_model.load_v2 is deprecated. Please use tf.compat.v2.saved_model.load instead.\n",
      "\n"
     ]
    },
    {
     "name": "stdout",
     "output_type": "stream",
     "text": [
      "tf.Tensor(\n",
      "[[ 0.06244392 -0.05404239 -0.01550858 ... -0.01991867  0.03076827\n",
      "   0.00064757]\n",
      " [-0.03539826 -0.09636232 -0.00950034 ... -0.02322183  0.01694256\n",
      "  -0.0294972 ]], shape=(2, 512), dtype=float32)\n"
     ]
    }
   ],
   "source": [
    "embed = hub.load(\"https://www.kaggle.com/models/google/universal-sentence-encoder/frameworks/TensorFlow2/variations/universal-sentence-encoder/versions/2\") # load Universal Sentence Encoder\n",
    "embed_samples = embed([\"When you call the universal sentence encoder on a sentence\" ,\"it turns it into numbers.\"])\n",
    "\n",
    "print(embed_samples)"
   ]
  },
  {
   "cell_type": "code",
   "execution_count": 107,
   "id": "61133b86",
   "metadata": {},
   "outputs": [
    {
     "data": {
      "text/plain": [
       "TensorShape([512])"
      ]
     },
     "execution_count": 107,
     "metadata": {},
     "output_type": "execute_result"
    }
   ],
   "source": [
    "# Each sentence has been encoded into a 512 dimension vector\n",
    "embed_samples[0].shape"
   ]
  },
  {
   "cell_type": "code",
   "execution_count": 108,
   "id": "4c17e44f",
   "metadata": {},
   "outputs": [],
   "source": [
    "# We can use this encoding layer in place of our text_vectorizer and embedding layer\n",
    "import tensorflow_hub as hub\n",
    "from tensorflow.keras import layers\n",
    "sentence_encoder_layer = hub.KerasLayer(\"https://www.kaggle.com/models/google/universal-sentence-encoder/frameworks/TensorFlow2/variations/universal-sentence-encoder/versions/2\",\n",
    "                                        input_shape=[], # shape of inputs coming to our model\n",
    "                                        dtype=tf.string, # data type of inputs coming to the USE layer\n",
    "                                        trainable=False, # keep the pretrained weights (we'll create a feature extractor)\n",
    "                                        name=\"USE\")"
   ]
  },
  {
   "cell_type": "code",
   "execution_count": 109,
   "id": "25ff338f",
   "metadata": {},
   "outputs": [
    {
     "name": "stdout",
     "output_type": "stream",
     "text": [
      "Model: \"model_3_USE\"\n",
      "_________________________________________________________________\n",
      " Layer (type)                Output Shape              Param #   \n",
      "=================================================================\n",
      " USE (KerasLayer)            (None, 512)               256797824 \n",
      "                                                                 \n",
      " dense_6 (Dense)             (None, 64)                32832     \n",
      "                                                                 \n",
      " dense_7 (Dense)             (None, 1)                 65        \n",
      "                                                                 \n",
      "=================================================================\n",
      "Total params: 256830721 (979.73 MB)\n",
      "Trainable params: 32897 (128.50 KB)\n",
      "Non-trainable params: 256797824 (979.61 MB)\n",
      "_________________________________________________________________\n"
     ]
    }
   ],
   "source": [
    "# Create model using the Sequential API\n",
    "\n",
    "import tensorflow as tf\n",
    "model_3 = tf.keras.Sequential([\n",
    "  sentence_encoder_layer, # take in sentences and then encode them into an embedding\n",
    "  layers.Dense(64, activation=\"relu\"),\n",
    "  layers.Dense(1, activation=\"sigmoid\")\n",
    "], name=\"model_3_USE\")\n",
    "\n",
    "# Compile model\n",
    "model_3.compile(loss=\"binary_crossentropy\",\n",
    "                optimizer=tf.keras.optimizers.Adam(0.0008),\n",
    "                metrics=[\"accuracy\"])\n",
    "\n",
    "model_3.summary()"
   ]
  },
  {
   "cell_type": "code",
   "execution_count": 110,
   "id": "6901bde2",
   "metadata": {},
   "outputs": [
    {
     "name": "stdout",
     "output_type": "stream",
     "text": [
      "Epoch 1/4\n",
      "220/220 [==============================] - 5s 13ms/step - loss: 0.3386 - accuracy: 0.8725 - val_loss: 0.2164 - val_accuracy: 0.9231\n",
      "Epoch 2/4\n",
      "220/220 [==============================] - 3s 12ms/step - loss: 0.1951 - accuracy: 0.9337 - val_loss: 0.2001 - val_accuracy: 0.9231\n",
      "Epoch 3/4\n",
      "220/220 [==============================] - 2s 11ms/step - loss: 0.1829 - accuracy: 0.9373 - val_loss: 0.1960 - val_accuracy: 0.9226\n",
      "Epoch 4/4\n",
      "220/220 [==============================] - 2s 10ms/step - loss: 0.1763 - accuracy: 0.9386 - val_loss: 0.1946 - val_accuracy: 0.9248\n"
     ]
    }
   ],
   "source": [
    "# Train a classifier on top of pretrained embeddings\n",
    "\n",
    "model_3_history = model_3.fit(X_train,\n",
    "                              y_train,\n",
    "                              epochs=4,\n",
    "                              validation_data=(X_valid, y_valid)\n",
    "                              )"
   ]
  },
  {
   "cell_type": "code",
   "execution_count": 111,
   "id": "eeae8749",
   "metadata": {},
   "outputs": [
    {
     "name": "stdout",
     "output_type": "stream",
     "text": [
      "74/74 [==============================] - 1s 7ms/step\n"
     ]
    },
    {
     "data": {
      "text/html": [
       "<div>\n",
       "<style scoped>\n",
       "    .dataframe tbody tr th:only-of-type {\n",
       "        vertical-align: middle;\n",
       "    }\n",
       "\n",
       "    .dataframe tbody tr th {\n",
       "        vertical-align: top;\n",
       "    }\n",
       "\n",
       "    .dataframe thead th {\n",
       "        text-align: right;\n",
       "    }\n",
       "</style>\n",
       "<table border=\"1\" class=\"dataframe\">\n",
       "  <thead>\n",
       "    <tr style=\"text-align: right;\">\n",
       "      <th></th>\n",
       "      <th>Description</th>\n",
       "      <th>Precision</th>\n",
       "      <th>Recall</th>\n",
       "      <th>F1_score</th>\n",
       "      <th>Accuracy</th>\n",
       "      <th>Pred_time_in_seconds</th>\n",
       "    </tr>\n",
       "  </thead>\n",
       "  <tbody>\n",
       "    <tr>\n",
       "      <th>0</th>\n",
       "      <td>Embedding model</td>\n",
       "      <td>91.47</td>\n",
       "      <td>89.89</td>\n",
       "      <td>90.67</td>\n",
       "      <td>92.65</td>\n",
       "      <td>0.214193</td>\n",
       "    </tr>\n",
       "    <tr>\n",
       "      <th>1</th>\n",
       "      <td>rnn model</td>\n",
       "      <td>71.13</td>\n",
       "      <td>55.38</td>\n",
       "      <td>62.27</td>\n",
       "      <td>73.33</td>\n",
       "      <td>0.528572</td>\n",
       "    </tr>\n",
       "    <tr>\n",
       "      <th>2</th>\n",
       "      <td>lstm model</td>\n",
       "      <td>89.89</td>\n",
       "      <td>86.02</td>\n",
       "      <td>87.91</td>\n",
       "      <td>90.60</td>\n",
       "      <td>0.970244</td>\n",
       "    </tr>\n",
       "    <tr>\n",
       "      <th>3</th>\n",
       "      <td>use model</td>\n",
       "      <td>90.28</td>\n",
       "      <td>90.86</td>\n",
       "      <td>90.57</td>\n",
       "      <td>92.48</td>\n",
       "      <td>0.977688</td>\n",
       "    </tr>\n",
       "  </tbody>\n",
       "</table>\n",
       "</div>"
      ],
      "text/plain": [
       "       Description  Precision  Recall  F1_score  Accuracy  \\\n",
       "0  Embedding model      91.47   89.89     90.67     92.65   \n",
       "1        rnn model      71.13   55.38     62.27     73.33   \n",
       "2       lstm model      89.89   86.02     87.91     90.60   \n",
       "3        use model      90.28   90.86     90.57     92.48   \n",
       "\n",
       "   Pred_time_in_seconds  \n",
       "0              0.214193  \n",
       "1              0.528572  \n",
       "2              0.970244  \n",
       "3              0.977688  "
      ]
     },
     "execution_count": 111,
     "metadata": {},
     "output_type": "execute_result"
    }
   ],
   "source": [
    "result_df = result_log(model_3,\"use model\",X_valid, y_valid, result_df)\n",
    "result_df"
   ]
  },
  {
   "cell_type": "code",
   "execution_count": 112,
   "id": "58c6b7fa",
   "metadata": {},
   "outputs": [
    {
     "name": "stdout",
     "output_type": "stream",
     "text": [
      "INFO:tensorflow:Assets written to: Downloads\\assets\n"
     ]
    },
    {
     "name": "stderr",
     "output_type": "stream",
     "text": [
      "INFO:tensorflow:Assets written to: Downloads\\assets\n"
     ]
    }
   ],
   "source": [
    "tf.saved_model.save(model_3, \"Downloads\")"
   ]
  },
  {
   "cell_type": "code",
   "execution_count": 113,
   "id": "441d3775",
   "metadata": {},
   "outputs": [],
   "source": [
    "def prediction(text, model):\n",
    "  text = text_cleaner(text)\n",
    "  y_pred = model.predict([text])\n",
    "  print((\"Negative Review\" if y_pred[0] == 1 else \"Positive Review\"))"
   ]
  },
  {
   "cell_type": "code",
   "execution_count": 114,
   "id": "d21e99c2",
   "metadata": {},
   "outputs": [
    {
     "name": "stderr",
     "output_type": "stream",
     "text": [
      "C:\\Users\\palash\\anaconda3\\lib\\site-packages\\sklearn\\base.py:299: UserWarning: Trying to unpickle estimator CountVectorizer from version 1.2.2 when using version 1.2.1. This might lead to breaking code or invalid results. Use at your own risk. For more info please refer to:\n",
      "https://scikit-learn.org/stable/model_persistence.html#security-maintainability-limitations\n",
      "  warnings.warn(\n"
     ]
    },
    {
     "ename": "KeyError",
     "evalue": "0",
     "output_type": "error",
     "traceback": [
      "\u001b[1;31m---------------------------------------------------------------------------\u001b[0m",
      "\u001b[1;31mKeyError\u001b[0m                                  Traceback (most recent call last)",
      "Cell \u001b[1;32mIn[114], line 1\u001b[0m\n\u001b[1;32m----> 1\u001b[0m model_nb \u001b[38;5;241m=\u001b[39m \u001b[43mjoblib\u001b[49m\u001b[38;5;241;43m.\u001b[39;49m\u001b[43mload\u001b[49m\u001b[43m(\u001b[49m\u001b[38;5;124;43mr\u001b[39;49m\u001b[38;5;124;43m\"\u001b[39;49m\u001b[38;5;124;43mC:\u001b[39;49m\u001b[38;5;124;43m\\\u001b[39;49m\u001b[38;5;124;43mUsers\u001b[39;49m\u001b[38;5;124;43m\\\u001b[39;49m\u001b[38;5;124;43mpalash\u001b[39;49m\u001b[38;5;124;43m\\\u001b[39;49m\u001b[38;5;124;43mDownloads\u001b[39;49m\u001b[38;5;124;43m\\\u001b[39;49m\u001b[38;5;124;43mfood_review_nb.joblib\u001b[39;49m\u001b[38;5;124;43m\"\u001b[39;49m\u001b[43m)\u001b[49m\n",
      "File \u001b[1;32m~\\anaconda3\\lib\\site-packages\\joblib\\numpy_pickle.py:587\u001b[0m, in \u001b[0;36mload\u001b[1;34m(filename, mmap_mode)\u001b[0m\n\u001b[0;32m    581\u001b[0m             \u001b[38;5;28;01mif\u001b[39;00m \u001b[38;5;28misinstance\u001b[39m(fobj, \u001b[38;5;28mstr\u001b[39m):\n\u001b[0;32m    582\u001b[0m                 \u001b[38;5;66;03m# if the returned file object is a string, this means we\u001b[39;00m\n\u001b[0;32m    583\u001b[0m                 \u001b[38;5;66;03m# try to load a pickle file generated with an version of\u001b[39;00m\n\u001b[0;32m    584\u001b[0m                 \u001b[38;5;66;03m# Joblib so we load it with joblib compatibility function.\u001b[39;00m\n\u001b[0;32m    585\u001b[0m                 \u001b[38;5;28;01mreturn\u001b[39;00m load_compatibility(fobj)\n\u001b[1;32m--> 587\u001b[0m             obj \u001b[38;5;241m=\u001b[39m \u001b[43m_unpickle\u001b[49m\u001b[43m(\u001b[49m\u001b[43mfobj\u001b[49m\u001b[43m,\u001b[49m\u001b[43m \u001b[49m\u001b[43mfilename\u001b[49m\u001b[43m,\u001b[49m\u001b[43m \u001b[49m\u001b[43mmmap_mode\u001b[49m\u001b[43m)\u001b[49m\n\u001b[0;32m    588\u001b[0m \u001b[38;5;28;01mreturn\u001b[39;00m obj\n",
      "File \u001b[1;32m~\\anaconda3\\lib\\site-packages\\joblib\\numpy_pickle.py:506\u001b[0m, in \u001b[0;36m_unpickle\u001b[1;34m(fobj, filename, mmap_mode)\u001b[0m\n\u001b[0;32m    504\u001b[0m obj \u001b[38;5;241m=\u001b[39m \u001b[38;5;28;01mNone\u001b[39;00m\n\u001b[0;32m    505\u001b[0m \u001b[38;5;28;01mtry\u001b[39;00m:\n\u001b[1;32m--> 506\u001b[0m     obj \u001b[38;5;241m=\u001b[39m \u001b[43munpickler\u001b[49m\u001b[38;5;241;43m.\u001b[39;49m\u001b[43mload\u001b[49m\u001b[43m(\u001b[49m\u001b[43m)\u001b[49m\n\u001b[0;32m    507\u001b[0m     \u001b[38;5;28;01mif\u001b[39;00m unpickler\u001b[38;5;241m.\u001b[39mcompat_mode:\n\u001b[0;32m    508\u001b[0m         warnings\u001b[38;5;241m.\u001b[39mwarn(\u001b[38;5;124m\"\u001b[39m\u001b[38;5;124mThe file \u001b[39m\u001b[38;5;124m'\u001b[39m\u001b[38;5;132;01m%s\u001b[39;00m\u001b[38;5;124m'\u001b[39m\u001b[38;5;124m has been generated with a \u001b[39m\u001b[38;5;124m\"\u001b[39m\n\u001b[0;32m    509\u001b[0m                       \u001b[38;5;124m\"\u001b[39m\u001b[38;5;124mjoblib version less than 0.10. \u001b[39m\u001b[38;5;124m\"\u001b[39m\n\u001b[0;32m    510\u001b[0m                       \u001b[38;5;124m\"\u001b[39m\u001b[38;5;124mPlease regenerate this pickle file.\u001b[39m\u001b[38;5;124m\"\u001b[39m\n\u001b[0;32m    511\u001b[0m                       \u001b[38;5;241m%\u001b[39m filename,\n\u001b[0;32m    512\u001b[0m                       \u001b[38;5;167;01mDeprecationWarning\u001b[39;00m, stacklevel\u001b[38;5;241m=\u001b[39m\u001b[38;5;241m3\u001b[39m)\n",
      "File \u001b[1;32m~\\anaconda3\\lib\\pickle.py:1213\u001b[0m, in \u001b[0;36m_Unpickler.load\u001b[1;34m(self)\u001b[0m\n\u001b[0;32m   1211\u001b[0m             \u001b[38;5;28;01mraise\u001b[39;00m \u001b[38;5;167;01mEOFError\u001b[39;00m\n\u001b[0;32m   1212\u001b[0m         \u001b[38;5;28;01massert\u001b[39;00m \u001b[38;5;28misinstance\u001b[39m(key, bytes_types)\n\u001b[1;32m-> 1213\u001b[0m         \u001b[43mdispatch\u001b[49m\u001b[43m[\u001b[49m\u001b[43mkey\u001b[49m\u001b[43m[\u001b[49m\u001b[38;5;241;43m0\u001b[39;49m\u001b[43m]\u001b[49m\u001b[43m]\u001b[49m(\u001b[38;5;28mself\u001b[39m)\n\u001b[0;32m   1214\u001b[0m \u001b[38;5;28;01mexcept\u001b[39;00m _Stop \u001b[38;5;28;01mas\u001b[39;00m stopinst:\n\u001b[0;32m   1215\u001b[0m     \u001b[38;5;28;01mreturn\u001b[39;00m stopinst\u001b[38;5;241m.\u001b[39mvalue\n",
      "\u001b[1;31mKeyError\u001b[0m: 0"
     ]
    }
   ],
   "source": [
    "model_nb = joblib.load(r\"C:\\Users\\palash\\Downloads\\food_review_nb.joblib\")"
   ]
  },
  {
   "cell_type": "code",
   "execution_count": 115,
   "id": "cc5204f9",
   "metadata": {},
   "outputs": [],
   "source": [
    "text1 = \"atmosphere is ok but food is not good\"\n",
    "text2 = \"atmosphere is ok but food is bad\""
   ]
  },
  {
   "cell_type": "code",
   "execution_count": null,
   "id": "b25ffb6f",
   "metadata": {},
   "outputs": [],
   "source": []
  }
 ],
 "metadata": {
  "kernelspec": {
   "display_name": "Python 3 (ipykernel)",
   "language": "python",
   "name": "python3"
  },
  "language_info": {
   "codemirror_mode": {
    "name": "ipython",
    "version": 3
   },
   "file_extension": ".py",
   "mimetype": "text/x-python",
   "name": "python",
   "nbconvert_exporter": "python",
   "pygments_lexer": "ipython3",
   "version": "3.10.9"
  }
 },
 "nbformat": 4,
 "nbformat_minor": 5
}
